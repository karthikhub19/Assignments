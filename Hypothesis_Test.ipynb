{
  "nbformat": 4,
  "nbformat_minor": 0,
  "metadata": {
    "colab": {
      "name": "Hypothesis Test",
      "provenance": [],
      "authorship_tag": "ABX9TyOdj2qKOsS8lHLijE5iqeWS",
      "include_colab_link": true
    },
    "kernelspec": {
      "name": "python3",
      "display_name": "Python 3"
    },
    "language_info": {
      "name": "python"
    }
  },
  "cells": [
    {
      "cell_type": "markdown",
      "metadata": {
        "id": "view-in-github",
        "colab_type": "text"
      },
      "source": [
        "<a href=\"https://colab.research.google.com/github/karthikhub19/Assignments/blob/main/Hypothesis_Test.ipynb\" target=\"_parent\"><img src=\"https://colab.research.google.com/assets/colab-badge.svg\" alt=\"Open In Colab\"/></a>"
      ]
    },
    {
      "cell_type": "code",
      "execution_count": 1,
      "metadata": {
        "colab": {
          "base_uri": "https://localhost:8080/"
        },
        "id": "AAVO1dHPxHNl",
        "outputId": "da4fb13a-36c5-4a76-c894-cf9ed4738d37"
      },
      "outputs": [
        {
          "output_type": "stream",
          "name": "stdout",
          "text": [
            "3.5555555555555554\n",
            "2.2469135802469133\n",
            "1.4989708403591155\n",
            "3.5555555555555554\n",
            "3.0\n",
            "1\n",
            "6\n",
            "3\n"
          ]
        }
      ],
      "source": [
        "d1 =[1,2,3,4,5,6,3,5,3]\n",
        "import numpy as np\n",
        "import statistics as s\n",
        "print(np.average(d1))\n",
        "print(np.var(d1))\n",
        "print(np.std(d1))\n",
        "print(np.mean(d1))\n",
        "print(np.median(d1))\n",
        "print(np.min(d1))\n",
        "print(np.max(d1))\n",
        "print(s.mode(d1))\n",
        "\n",
        "\n",
        "\n"
      ]
    },
    {
      "cell_type": "code",
      "source": [
        "d1 =[20,21,2,25,26,29,33,34,38]\n",
        "d2=[11,16,19,23,25,32,39,46,52]\n",
        "import numpy as np\n",
        "a=np.array(d1)\n",
        "b=np.array(d2)\n",
        "#print(a,b)\n",
        "c=np.array([d1,d2])\n",
        "r = np.ptp(a,axis=0)#Range\n",
        "print(r)\n",
        "print(c)\n",
        "print(np.median(c))\n",
        "print(np.average(c))\n",
        "print(np.mean(c))#arithmetic mean\n",
        "print(np.std(c))\n",
        "print(np.var(c))\n",
        "d3 =[20,21,2,25,26,29,33,34,38,np.nan]\n",
        "d4=[11,16,19,23,25,32,39,46,52,np.nan]\n",
        "d=np.array([d3,d4])\n",
        "print(np.nanmean(d))#Compute the arithmetic mean , ignoring NaNs.\n",
        "print(np.nanstd(d))#Compute the standard deviation,while ignoring NaNs\n",
        "print(np.nanvar(d))#Compute the variance,while ignoring NaNs.\n",
        "\n",
        "#IQR using Numpy\n",
        "Q1 = np.percentile(c, 25, interpolation = 'midpoint')  \n",
        "# Third quartile (Q3)\n",
        "Q3 = np.percentile(c, 75, interpolation = 'midpoint') \n",
        "# Interquaritle range (IQR)\n",
        "IQR = Q3 - Q1\n",
        "print(IQR)\n",
        "\n",
        "#IQR using Scipy\n",
        "# Import stats from scipy library\n",
        "from scipy import stats\n",
        "# Interquartile range (IQR)\n",
        "IQR = stats.iqr(c, interpolation = 'midpoint')\n",
        "print(IQR)\n",
        "\n",
        "\n",
        "#Z-score\n",
        "import numpy as np\n",
        "from scipy import stats\n",
        "  \n",
        "print (\"Z-score for array :\", stats.zscore(c, axis = 0))\n",
        "print (\"Z-score for array : \", stats.zscore(c, axis = 1))"
      ],
      "metadata": {
        "colab": {
          "base_uri": "https://localhost:8080/"
        },
        "id": "Vvj2VkprxIka",
        "outputId": "7c83820a-e267-442a-e936-4626bc913f7f"
      },
      "execution_count": 2,
      "outputs": [
        {
          "output_type": "stream",
          "name": "stdout",
          "text": [
            "36\n",
            "[[20 21  2 25 26 29 33 34 38]\n",
            " [11 16 19 23 25 32 39 46 52]]\n",
            "25.5\n",
            "27.27777777777778\n",
            "27.27777777777778\n",
            "11.878110378879274\n",
            "141.08950617283952\n",
            "27.27777777777778\n",
            "11.878110378879272\n",
            "141.0895061728395\n",
            "13.0\n",
            "13.0\n",
            "Z-score for array : [[ 1.  1. -1.  1.  1. -1. -1. -1. -1.]\n",
            " [-1. -1.  1. -1. -1.  1.  1.  1.  1.]]\n",
            "Z-score for array :  [[-0.53333333 -0.43333333 -2.33333333 -0.03333333  0.06666667  0.36666667\n",
            "   0.76666667  0.86666667  1.26666667]\n",
            " [-1.37897923 -1.00060078 -0.77357371 -0.47087096 -0.31951958  0.21021025\n",
            "   0.73994007  1.2696699   1.72372403]]\n"
          ]
        }
      ]
    },
    {
      "cell_type": "code",
      "source": [
        "from numpy import random\n",
        "#Binomial distribution\n",
        "import matplotlib.pyplot as plt\n",
        "import seaborn as sns\n",
        "from scipy.stats import binom\n",
        "import numpy as np\n",
        "n=50#number of trials\n",
        "p=0.6#probability of success(tossing a coin)\n",
        "\n",
        "data_binom =binom.rvs(n,p,size=10000,random_state=50)\n",
        "#print(data_binom)\n",
        "#the random_state parameter is used for initializing the internal random number generator,\n",
        "#size decides the number of times to repeat the trials\n",
        "\n",
        "#numpy_binom=np.random.binomial(n,p,size=1000)\n",
        "#Probability of getting the number of heads (0, 1, 2, 3…50) while tossing a coin 50 times;\n",
        "#Here, the random variable X is the number of “successes” that is the number of times heads occurs. \n",
        "#The probability of getting a heads is 1/2. Binomial distribution could be represented as B(50,0.5). \n",
        "#The diagram below represents the binomial distribution for 1000 experiments.\n",
        "\n",
        "\n",
        "binom_pd = binom.pmf(data_binom, n, p)\n",
        "\n",
        "\n",
        "ax = sns.distplot(binom_pd,\n",
        "                  kde=False,\n",
        "                  color='skyblue',\n",
        "                  hist_kws={\"linewidth\": 15,'alpha':1})\n",
        "ax.set(xlabel='Binomial Distribution', ylabel='Frequency')\n",
        "\n",
        "fig, ax = plt.subplots(1, 1, figsize=(8, 6))\n",
        "ax.plot(data_binom, binom_pd, 'bo', ms=8, label='geom pmf')\n",
        "plt.ylabel(\"Probability\", fontsize=\"18\")\n",
        "plt.xlabel(\"X - No. of Successes\", fontsize=\"18\")\n",
        "plt.title(\"Binomial Distribution - No. of Successes Vs Probability\", fontsize=\"18\")\n",
        "ax.vlines(data_binom, 0, binom_pd, colors='b', lw=5, alpha=0.5)\n"
      ],
      "metadata": {
        "colab": {
          "base_uri": "https://localhost:8080/",
          "height": 750
        },
        "id": "QvnX3-22xZmk",
        "outputId": "8cb01c68-075d-4bfd-e019-daa2cb0b4b91"
      },
      "execution_count": 3,
      "outputs": [
        {
          "output_type": "stream",
          "name": "stderr",
          "text": [
            "/usr/local/lib/python3.7/dist-packages/seaborn/distributions.py:2619: FutureWarning: `distplot` is a deprecated function and will be removed in a future version. Please adapt your code to use either `displot` (a figure-level function with similar flexibility) or `histplot` (an axes-level function for histograms).\n",
            "  warnings.warn(msg, FutureWarning)\n"
          ]
        },
        {
          "output_type": "execute_result",
          "data": {
            "text/plain": [
              "<matplotlib.collections.LineCollection at 0x7fe02f94d110>"
            ]
          },
          "metadata": {},
          "execution_count": 3
        },
        {
          "output_type": "display_data",
          "data": {
            "image/png": "[encoded data removed]",
            "text/plain": [
              "<Figure size 432x288 with 1 Axes>"
            ]
          },
          "metadata": {
            "needs_background": "light"
          }
        },
        {
          "output_type": "display_data",
          "data": {
            "image/png": "[encoded data removed]",
            "text/plain": [
              "<Figure size 576x432 with 1 Axes>"
            ]
          },
          "metadata": {
            "needs_background": "light"
          }
        }
      ]
    },
    {
      "cell_type": "code",
      "source": [
        "#Bernoulli\n",
        "from scipy.stats import bernoulli\n",
        "data_bern = bernoulli.rvs(size=5000,p=0.7,random_state=10)\n",
        "print(data_bern)\n",
        "x= sns.distplot(data_bern,\n",
        "                 kde=False,\n",
        "                 color=\"skyblue\",\n",
        "                 hist_kws={\"linewidth\": 15,'alpha':1})\n",
        "ax.set(xlabel='Bernoulli Distribution', ylabel='Frequency')"
      ],
      "metadata": {
        "colab": {
          "base_uri": "https://localhost:8080/",
          "height": 372
        },
        "id": "dR-AgCuPxfnG",
        "outputId": "eb455a7f-8d43-4d97-a728-fc2c1c220e76"
      },
      "execution_count": 4,
      "outputs": [
        {
          "output_type": "stream",
          "name": "stdout",
          "text": [
            "[0 1 1 ... 1 0 1]\n"
          ]
        },
        {
          "output_type": "stream",
          "name": "stderr",
          "text": [
            "/usr/local/lib/python3.7/dist-packages/seaborn/distributions.py:2619: FutureWarning: `distplot` is a deprecated function and will be removed in a future version. Please adapt your code to use either `displot` (a figure-level function with similar flexibility) or `histplot` (an axes-level function for histograms).\n",
            "  warnings.warn(msg, FutureWarning)\n"
          ]
        },
        {
          "output_type": "execute_result",
          "data": {
            "text/plain": [
              "[Text(25.200000000000003, 0.5, 'Frequency'),\n",
              " Text(0.5, 25.200000000000003, 'Bernoulli Distribution')]"
            ]
          },
          "metadata": {},
          "execution_count": 4
        },
        {
          "output_type": "display_data",
          "data": {
            "image/png": "[encoded data removed]",
            "text/plain": [
              "<Figure size 432x288 with 1 Axes>"
            ]
          },
          "metadata": {
            "needs_background": "light"
          }
        }
      ]
    },
    {
      "cell_type": "code",
      "source": [
        "#geometric distribution\n",
        "from scipy.stats import geom\n",
        "import matplotlib.pyplot as plt\n",
        "#\n",
        "# X = Discrete random variable representing number of throws\n",
        "# p = Probability of the perfect throw\n",
        "#\n",
        "X = [1, 2, 3, 4, 5, 6, 7, 8, 9, 10]\n",
        "p = 0.6\n",
        "#\n",
        "# Calculate geometric probability distribution\n",
        "#\n",
        "geom_pd = geom.pmf(X, p)\n",
        "ax = sns.distplot(geom_pd,\n",
        "                  kde=True,\n",
        "                  color='skyblue',\n",
        "                  hist_kws={\"linewidth\": 10,'alpha':1})\n",
        "ax.set(xlabel='no.of throws', ylabel='probability')\n",
        "\n"
      ],
      "metadata": {
        "colab": {
          "base_uri": "https://localhost:8080/",
          "height": 351
        },
        "id": "89ZXDPwoxk6f",
        "outputId": "ab40c292-c4d4-4da7-8864-32934490c5a8"
      },
      "execution_count": 5,
      "outputs": [
        {
          "output_type": "stream",
          "name": "stderr",
          "text": [
            "/usr/local/lib/python3.7/dist-packages/seaborn/distributions.py:2619: FutureWarning: `distplot` is a deprecated function and will be removed in a future version. Please adapt your code to use either `displot` (a figure-level function with similar flexibility) or `histplot` (an axes-level function for histograms).\n",
            "  warnings.warn(msg, FutureWarning)\n"
          ]
        },
        {
          "output_type": "execute_result",
          "data": {
            "text/plain": [
              "[Text(0, 0.5, 'probability'), Text(0.5, 0, 'no.of throws')]"
            ]
          },
          "metadata": {},
          "execution_count": 5
        },
        {
          "output_type": "display_data",
          "data": {
            "image/png": "[encoded data removed]",
            "text/plain": [
              "<Figure size 432x288 with 1 Axes>"
            ]
          },
          "metadata": {
            "needs_background": "light"
          }
        }
      ]
    },
    {
      "cell_type": "code",
      "source": [
        "#Uniform or rectangular\n",
        "from scipy.stats import uniform\n",
        "# random numbers from uniform distribution\n",
        "#This distribution is constant between loc and loc + scale. \n",
        "#The size arguments describe the number of random variates.\n",
        "n = 100\n",
        "start = 1\n",
        "width = 5\n",
        "data_uniform = uniform.rvs(size=n, loc = start, scale=width)\n",
        "print(data_uniform)\n",
        "ax = sns.distplot(data_uniform,\n",
        "                  bins=100,\n",
        "                  kde=True,\n",
        "                  color='skyblue',\n",
        "                  hist_kws={\"linewidth\": 15,'alpha':1})\n",
        "ax.set(xlabel='Uniform Distribution ', ylabel='Frequency')"
      ],
      "metadata": {
        "colab": {
          "base_uri": "https://localhost:8080/",
          "height": 646
        },
        "id": "gajZW9KRxmiI",
        "outputId": "3a6b9744-0a4f-48a1-cf09-18e1307b96ee"
      },
      "execution_count": 6,
      "outputs": [
        {
          "output_type": "stream",
          "name": "stdout",
          "text": [
            "[2.26984263 2.2713396  3.15869712 2.50139738 3.0382317  3.14251202\n",
            " 2.85688297 4.01777742 2.01032362 5.70881637 5.77838724 1.97289553\n",
            " 2.75740536 2.48595198 5.72277708 4.01822618 5.05501176 4.22988408\n",
            " 4.1111485  2.75334007 5.42405657 4.90534864 2.76176025 4.2203296\n",
            " 1.28180666 5.98193217 4.3110186  5.93747238 1.44640762 4.43834245\n",
            " 1.94681834 1.7404189  1.94914982 5.77690818 3.37744066 1.21573649\n",
            " 3.11137342 3.88092266 3.44804724 3.31701581 1.66561758 3.86664388\n",
            " 4.4042347  2.64408291 2.25971272 4.53860638 3.42295104 1.44104356\n",
            " 3.92391418 5.5427377  2.40581836 3.8253026  4.87971635 2.98824241\n",
            " 3.21247294 5.22482875 2.59191603 4.53548492 2.38720563 2.63653281\n",
            " 4.80404535 3.45444314 2.81746182 3.84739293 2.66194527 5.72990145\n",
            " 3.21915383 1.04057798 3.3129469  3.11925449 3.92035639 2.10720732\n",
            " 1.29042183 4.52813551 2.52431647 5.62478552 1.25425872 4.21688968\n",
            " 1.89241898 1.54133967 4.27164413 5.19725575 1.35796035 5.23677776\n",
            " 5.8900658  1.90304355 2.57759521 3.82489322 2.64681368 5.37685676\n",
            " 1.09112329 1.31522697 4.76621929 2.82840012 2.4027297  5.08661119\n",
            " 4.57070643 2.17447193 5.48604165 5.20779068]\n"
          ]
        },
        {
          "output_type": "stream",
          "name": "stderr",
          "text": [
            "/usr/local/lib/python3.7/dist-packages/seaborn/distributions.py:2619: FutureWarning: `distplot` is a deprecated function and will be removed in a future version. Please adapt your code to use either `displot` (a figure-level function with similar flexibility) or `histplot` (an axes-level function for histograms).\n",
            "  warnings.warn(msg, FutureWarning)\n"
          ]
        },
        {
          "output_type": "execute_result",
          "data": {
            "text/plain": [
              "[Text(0, 0.5, 'Frequency'), Text(0.5, 0, 'Uniform Distribution ')]"
            ]
          },
          "metadata": {},
          "execution_count": 6
        },
        {
          "output_type": "display_data",
          "data": {
            "image/png": "[encoded data removed]",
            "text/plain": [
              "<Figure size 432x288 with 1 Axes>"
            ]
          },
          "metadata": {
            "needs_background": "light"
          }
        }
      ]
    },
    {
      "cell_type": "code",
      "source": [
        "#normaldistribution\n",
        "from scipy.stats import norm\n",
        "# generate random numbers from N(0,1)\n",
        "data_normal = norm.rvs(size=1000,loc=1,scale=3)\n",
        "#The loc argument corresponds to the mean of the distribution. \n",
        "#scale corresponds to standard deviation \n",
        "#size to the number of random variates.\n",
        "\n",
        "\n",
        "#menheight=[75,70,68,74,61,65]\n",
        "#print (norm.cdf(data_normal))\n",
        "ax = sns.distplot(data_normal,\n",
        "                  bins=100,\n",
        "                  kde=True,\n",
        "                  color='skyblue',\n",
        "                  hist_kws={\"linewidth\": 15,'alpha':1})\n",
        "ax.set(xlabel='Normal Distribution', ylabel='Frequency')"
      ],
      "metadata": {
        "colab": {
          "base_uri": "https://localhost:8080/",
          "height": 351
        },
        "id": "8vA5bQRPxrbP",
        "outputId": "42d990da-839d-4a01-d635-e73b4f2bae11"
      },
      "execution_count": 7,
      "outputs": [
        {
          "output_type": "stream",
          "name": "stderr",
          "text": [
            "/usr/local/lib/python3.7/dist-packages/seaborn/distributions.py:2619: FutureWarning: `distplot` is a deprecated function and will be removed in a future version. Please adapt your code to use either `displot` (a figure-level function with similar flexibility) or `histplot` (an axes-level function for histograms).\n",
            "  warnings.warn(msg, FutureWarning)\n"
          ]
        },
        {
          "output_type": "execute_result",
          "data": {
            "text/plain": [
              "[Text(0, 0.5, 'Frequency'), Text(0.5, 0, 'Normal Distribution')]"
            ]
          },
          "metadata": {},
          "execution_count": 7
        },
        {
          "output_type": "display_data",
          "data": {
            "image/png": "[encoded data removed]",
            "text/plain": [
              "<Figure size 432x288 with 1 Axes>"
            ]
          },
          "metadata": {
            "needs_background": "light"
          }
        }
      ]
    },
    {
      "cell_type": "code",
      "source": [
        "#exponential\n",
        "from scipy.stats import expon\n",
        "data_expon = expon.rvs(scale=1,loc=11,size=1000)\n",
        "#takes shape parameter scale as its argument\n",
        "# which is nothing but 1/lambda in the equation\n",
        "#To shift distribution use the loc argument, \n",
        "#size decides the number of random variates in the distribution\n",
        "ax = sns.distplot(data_expon,\n",
        "                  kde=True,\n",
        "                  bins=100,\n",
        "                  color='skyblue',\n",
        "                  hist_kws={\"linewidth\": 15,'alpha':1})\n",
        "ax.set(xlabel='Exponential Distribution', ylabel='Frequency')"
      ],
      "metadata": {
        "colab": {
          "base_uri": "https://localhost:8080/",
          "height": 351
        },
        "id": "gs2PK-P8xzC8",
        "outputId": "027df974-df72-449d-f0a3-18a0f0e79e74"
      },
      "execution_count": 8,
      "outputs": [
        {
          "output_type": "stream",
          "name": "stderr",
          "text": [
            "/usr/local/lib/python3.7/dist-packages/seaborn/distributions.py:2619: FutureWarning: `distplot` is a deprecated function and will be removed in a future version. Please adapt your code to use either `displot` (a figure-level function with similar flexibility) or `histplot` (an axes-level function for histograms).\n",
            "  warnings.warn(msg, FutureWarning)\n"
          ]
        },
        {
          "output_type": "execute_result",
          "data": {
            "text/plain": [
              "[Text(0, 0.5, 'Frequency'), Text(0.5, 0, 'Exponential Distribution')]"
            ]
          },
          "metadata": {},
          "execution_count": 8
        },
        {
          "output_type": "display_data",
          "data": {
            "image/png": "[encoded data removed]",
            "text/plain": [
              "<Figure size 432x288 with 1 Axes>"
            ]
          },
          "metadata": {
            "needs_background": "light"
          }
        }
      ]
    },
    {
      "cell_type": "code",
      "source": [
        "#Z-test\n",
        "from statsmodels.stats.weightstats import ztest as ztest\n",
        "\n",
        "#enter IQ levels for 20 patients\n",
        "data = [88, 92, 94, 94, 96, 97, 97, 97, 99, 99,\n",
        "        105, 109, 109, 109, 110, 112, 112, 113, 114, 115]\n",
        "\n",
        "#perform one sample z-test\n",
        "print(ztest(data, value=100))\n",
        "print(stats.ttest_1samp(a=data, popmean=100))\n",
        "#value is nothing but H0 or Null hypothesis(here we say that avg is 100)"
      ],
      "metadata": {
        "colab": {
          "base_uri": "https://localhost:8080/"
        },
        "id": "9V7ktFAXyBAh",
        "outputId": "02cd027a-4323-46c8-c3a9-2ae32be87a7b"
      },
      "execution_count": 9,
      "outputs": [
        {
          "output_type": "stream",
          "name": "stdout",
          "text": [
            "(1.5976240527147705, 0.1101266701438426)\n",
            "Ttest_1sampResult(statistic=1.5976240527147705, pvalue=0.12662462536124378)\n"
          ]
        },
        {
          "output_type": "stream",
          "name": "stderr",
          "text": [
            "/usr/local/lib/python3.7/dist-packages/statsmodels/tools/_testing.py:19: FutureWarning: pandas.util.testing is deprecated. Use the functions in the public API at pandas.testing instead.\n",
            "  import pandas.util.testing as tm\n"
          ]
        }
      ]
    },
    {
      "cell_type": "code",
      "source": [
        "from statsmodels.stats.weightstats import ztest as ztest\n",
        "\n",
        "\n",
        "#enter IQ levels for 20 individuals from each city\n",
        "cityA = [82, 84, 85, 89, 91, 91, 92, 94, 99, 99,\n",
        "         105, 109, 109, 109, 110, 112, 112, 113, 114, 114]\n",
        "\n",
        "cityB = [90, 91, 91, 91, 95, 95, 99, 99, 108, 109,\n",
        "         109, 114, 115, 116, 117, 117, 128, 129, 130, 133]\n",
        "\n",
        "#perform two sample z-test\n",
        "ztest(cityA, cityB, value=0) \n",
        "\n",
        "\n",
        "#here value of H0 is 0 because null hypothesis is that there is no difference in IQ of two cities"
      ],
      "metadata": {
        "colab": {
          "base_uri": "https://localhost:8080/"
        },
        "id": "x1rkISWAyJ3u",
        "outputId": "02fbb7c1-ce84-467c-bd3e-7f9f9eb9061f"
      },
      "execution_count": 10,
      "outputs": [
        {
          "output_type": "execute_result",
          "data": {
            "text/plain": [
              "(-1.9953236073282115, 0.046007596761332065)"
            ]
          },
          "metadata": {},
          "execution_count": 10
        }
      ]
    },
    {
      "cell_type": "code",
      "source": [
        "data = [14, 14, 16, 13, 12, 17, 15, 14, 15, 13, 15, 14]\n",
        "\n",
        "#ttest_1samp(a, popmean)\n",
        "\n",
        "#where:\n",
        "\n",
        "#a: an array of sample observations\n",
        "#popmean: the expected population mean\n",
        "import scipy.stats as stats\n",
        "\n",
        "#perform one sample t-test\n",
        "stats.ttest_1samp(a=data, popmean=15)\n",
        "\n",
        "#H0 is that the avg height is 15 inches\n"
      ],
      "metadata": {
        "colab": {
          "base_uri": "https://localhost:8080/"
        },
        "id": "1CYF_czSyP53",
        "outputId": "4674a59a-c46e-4bf1-9c13-ca0a8288b603"
      },
      "execution_count": 11,
      "outputs": [
        {
          "output_type": "execute_result",
          "data": {
            "text/plain": [
              "Ttest_1sampResult(statistic=-1.6848470783484626, pvalue=0.12014460742498101)"
            ]
          },
          "metadata": {},
          "execution_count": 11
        }
      ]
    },
    {
      "cell_type": "code",
      "source": [
        "import numpy as np\n",
        "\n",
        "group1 = np.array([14, 15, 15, 16, 13, 8, 14, 17, 16, 14, 19, 20, 21, 15, 15, 16, 16, 13, 14, 12])\n",
        "group2 = np.array([15, 17, 14, 17, 14, 8, 12, 19, 19, 14, 17, 22, 24, 16, 13, 16, 13, 18, 15, 13])\n",
        "\n",
        "#ttest_ind(a, b, equal_var=True)\n",
        "\n",
        "#a: an array of sample observations for group 1\n",
        "#b: an array of sample observations for group 2\n",
        "#equal_var: if True, perform a standard independent 2 sample t-test that assumes equal population variances. If False, perform Welch’s t-test, which does not assume equal population variances. This is True by default.\n",
        "#Before we perform the test, we need to decide if we’ll assume the two populations have equal variances or not. \n",
        "#As a rule of thumb, we can assume the populations have equal variances if the ratio of the larger sample variance to the smaller sample variance is less than 4:1. \n",
        "#find variance for each group\n",
        "print(np.var(group1), np.var(group2))\n",
        "\n",
        "#The ratio of the larger sample variance to the smaller sample variance is 12.26 / 7.73 = 1.586  i.e<4 so equal population variance\n",
        "import scipy.stats as stats\n",
        "\n",
        "#perform two sample t-test with equal variances\n",
        "stats.ttest_ind(a=group1, b=group2, equal_var=True)\n"
      ],
      "metadata": {
        "colab": {
          "base_uri": "https://localhost:8080/"
        },
        "id": "mJUqcsNayVBZ",
        "outputId": "c47bf879-0e49-4a07-c9e9-d5cd23600016"
      },
      "execution_count": 12,
      "outputs": [
        {
          "output_type": "stream",
          "name": "stdout",
          "text": [
            "7.727500000000001 12.260000000000002\n"
          ]
        },
        {
          "output_type": "execute_result",
          "data": {
            "text/plain": [
              "Ttest_indResult(statistic=-0.6337397070250238, pvalue=0.5300471010405257)"
            ]
          },
          "metadata": {},
          "execution_count": 12
        }
      ]
    },
    {
      "cell_type": "code",
      "source": [
        "pre = [88, 82, 84, 93, 75, 78, 84, 87, 95, 91, 83, 89, 77, 68, 91]\n",
        "post = [91, 84, 88, 90, 79, 80, 88, 90, 90, 96, 88, 89, 81, 74, 92]\n",
        "\n",
        "#ttest_rel(a, b)\n",
        "\n",
        "#where:\n",
        "\n",
        "#a: an array of sample observations from group 1\n",
        "#b: an array of sample observations from group 2\n",
        "import scipy.stats as stats\n",
        "\n",
        "#perform the paired samples t-test\n",
        "stats.ttest_rel(pre, post)"
      ],
      "metadata": {
        "colab": {
          "base_uri": "https://localhost:8080/"
        },
        "id": "hKK06mO2yeKo",
        "outputId": "4098507e-c1c7-484b-a5c3-ffb6c969e18c"
      },
      "execution_count": 13,
      "outputs": [
        {
          "output_type": "execute_result",
          "data": {
            "text/plain": [
              "Ttest_relResult(statistic=-2.9732484231168796, pvalue=0.01007144862643272)"
            ]
          },
          "metadata": {},
          "execution_count": 13
        }
      ]
    },
    {
      "cell_type": "code",
      "source": [
        "#ztest categorical data\n",
        "import pandas as pd\n",
        "df=pd.read_csv('https://raw.githubusercontent.com/nethajinirmal13/Training-datasets/main/cs1.csv')\n",
        "print(df.head(10))\n",
        "\n",
        "import numpy as np # linear algebra\n",
        "import pandas as pd # data processing, CSV file I/O (e.g. pd.read_csv)\n",
        "import seaborn as sns # data visualization\n",
        "import matplotlib.pyplot as plt # data visualization\n",
        "import scipy.stats as st\n",
        "\n",
        "#Checking Normality of Income Distribution \n",
        "sns.distplot(df['income'])\n",
        "plt.show()"
      ],
      "metadata": {
        "colab": {
          "base_uri": "https://localhost:8080/",
          "height": 570
        },
        "id": "UJzgNGFLylJi",
        "outputId": "67ef36fd-9abf-4c83-8d90-537db3f9bca8"
      },
      "execution_count": 14,
      "outputs": [
        {
          "output_type": "stream",
          "name": "stdout",
          "text": [
            "        id  age  gender      region  ...  save_act current_act  mortgage   pl\n",
            "0  ID12101   48  FEMALE  INNER_CITY  ...        NO          NO        NO  YES\n",
            "1  ID12102   40    MALE        TOWN  ...        NO         YES       YES   NO\n",
            "2  ID12103   51  FEMALE  INNER_CITY  ...       YES         YES        NO   NO\n",
            "3  ID12104   23  FEMALE        TOWN  ...        NO         YES        NO   NO\n",
            "4  ID12105   57  FEMALE       RURAL  ...       YES          NO        NO   NO\n",
            "5  ID12106   57  FEMALE        TOWN  ...       YES         YES        NO  YES\n",
            "6  ID12107   22    MALE       RURAL  ...        NO         YES        NO  YES\n",
            "7  ID12108   58    MALE        TOWN  ...       YES         YES        NO   NO\n",
            "8  ID12109   37  FEMALE    SUBURBAN  ...        NO          NO        NO   NO\n",
            "9  ID12110   54    MALE        TOWN  ...       YES         YES        NO   NO\n",
            "\n",
            "[10 rows x 12 columns]\n"
          ]
        },
        {
          "output_type": "stream",
          "name": "stderr",
          "text": [
            "/usr/local/lib/python3.7/dist-packages/seaborn/distributions.py:2619: FutureWarning: `distplot` is a deprecated function and will be removed in a future version. Please adapt your code to use either `displot` (a figure-level function with similar flexibility) or `histplot` (an axes-level function for histograms).\n",
            "  warnings.warn(msg, FutureWarning)\n"
          ]
        },
        {
          "output_type": "display_data",
          "data": {
            "image/png": "[encoded data removed]",
            "text/plain": [
              "<Figure size 432x288 with 1 Axes>"
            ]
          },
          "metadata": {
            "needs_background": "light"
          }
        }
      ]
    },
    {
      "cell_type": "code",
      "source": [
        "#sharprio\n",
        "print(\"Sharpiro : \",st.shapiro(df.income))\n",
        "#Since p value is less than alpha (5%) the distibution does not follow normality.\n",
        "#p>0.05 the dataset is normal(cannot reject H0)\n",
        "#p<0.05 the dataset is not normal(can reject H0)"
      ],
      "metadata": {
        "colab": {
          "base_uri": "https://localhost:8080/"
        },
        "id": "-kgQpZ5Byp_n",
        "outputId": "b286d18b-24e6-4337-a4f5-26e940d20ac9"
      },
      "execution_count": 15,
      "outputs": [
        {
          "output_type": "stream",
          "name": "stdout",
          "text": [
            "Sharpiro :  (0.9428609013557434, 5.541547221099563e-10)\n"
          ]
        }
      ]
    },
    {
      "cell_type": "code",
      "source": [
        "print(df.groupby('gender')['income'].mean())\n",
        "male = df[df['gender'] == 'MALE']['income']\n",
        "female = df[df['gender'] == 'FEMALE']['income']\n",
        "print(male)\n"
      ],
      "metadata": {
        "colab": {
          "base_uri": "https://localhost:8080/"
        },
        "id": "WhRohH7gy0MI",
        "outputId": "d582fa5f-f51c-4f5b-8b96-03817fa0644e"
      },
      "execution_count": 16,
      "outputs": [
        {
          "output_type": "stream",
          "name": "stdout",
          "text": [
            "gender\n",
            "FEMALE    27435.078875\n",
            "MALE      27082.060176\n",
            "Name: income, dtype: float64\n",
            "1      30085.10\n",
            "6       8877.07\n",
            "7      24946.60\n",
            "9      24212.10\n",
            "14     19474.60\n",
            "         ...   \n",
            "321    22882.90\n",
            "323    24027.60\n",
            "324    28495.10\n",
            "326    34852.30\n",
            "327    21268.40\n",
            "Name: income, Length: 170, dtype: float64\n"
          ]
        }
      ]
    },
    {
      "cell_type": "code",
      "source": [
        "#Stating of Hypothesis :\n",
        "#H0 : mu_male = mu_female\n",
        "#H1 : mu_male != mu_female\n",
        "import scipy.stats as st\n",
        "st.ttest_ind(male,female)"
      ],
      "metadata": {
        "colab": {
          "base_uri": "https://localhost:8080/"
        },
        "id": "X42CHu8TzBfM",
        "outputId": "83c7d312-ff21-4dae-bc55-d37e6f0b6c59"
      },
      "execution_count": 17,
      "outputs": [
        {
          "output_type": "execute_result",
          "data": {
            "text/plain": [
              "Ttest_indResult(statistic=-0.2449534813001663, pvalue=0.8066456277315542)"
            ]
          },
          "metadata": {},
          "execution_count": 17
        }
      ]
    },
    {
      "cell_type": "code",
      "source": [
        "\n",
        "#Income VS PL :\n",
        "pl_yes = df[df['pl'] == 'YES']['income']\n",
        "pl_no = df[df['pl'] == 'NO']['income']\n",
        "df.groupby('pl')['income'].mean()\n",
        "print(pl_yes.head(5))\n",
        "print(pl_no.head())\n",
        "#Stating of Hypothesis :\n",
        "#H0 : mu_pl_yes = mu_pl_no\n",
        "#H1 : mu_pl_yes != mu_pl_no\n",
        "\n",
        "st.ttest_ind(pl_yes,pl_no)"
      ],
      "metadata": {
        "colab": {
          "base_uri": "https://localhost:8080/"
        },
        "id": "M6kgqkemzGVD",
        "outputId": "be502206-512a-46a6-9dee-74dd07ae2a1c"
      },
      "execution_count": 18,
      "outputs": [
        {
          "output_type": "stream",
          "name": "stdout",
          "text": [
            "0     17546.00\n",
            "5     37869.60\n",
            "6      8877.07\n",
            "12    15735.80\n",
            "13    55204.70\n",
            "Name: income, dtype: float64\n",
            "1    30085.1\n",
            "2    16575.4\n",
            "3    20375.4\n",
            "4    50576.3\n",
            "7    24946.6\n",
            "Name: income, dtype: float64\n"
          ]
        },
        {
          "output_type": "execute_result",
          "data": {
            "text/plain": [
              "Ttest_indResult(statistic=5.47425610162424, pvalue=8.746969284908934e-08)"
            ]
          },
          "metadata": {},
          "execution_count": 18
        }
      ]
    },
    {
      "cell_type": "code",
      "source": [
        "print(df.children.unique())\n",
        "c0 = df[df['children'] == 0]['income']        # c0 = 0 children\n",
        "c1 = df[df['children'] == 1]['income']\n",
        "c2 = df[df['children'] == 2]['income']\n",
        "c3 = df[df['children'] == 3]['income']\n",
        "sns.boxplot(x='children',y=\"income\",data=df)\n",
        "plt.show()\n",
        "st.f_oneway(c0,c1,c2,c3)"
      ],
      "metadata": {
        "colab": {
          "base_uri": "https://localhost:8080/",
          "height": 314
        },
        "id": "pjfM1FnfzLBl",
        "outputId": "4a01285e-9edd-463d-ecd1-f8345828d550"
      },
      "execution_count": 19,
      "outputs": [
        {
          "output_type": "stream",
          "name": "stdout",
          "text": [
            "[1 3 0 2]\n"
          ]
        },
        {
          "output_type": "display_data",
          "data": {
            "image/png": "[encoded data removed]",
            "text/plain": [
              "<Figure size 432x288 with 1 Axes>"
            ]
          },
          "metadata": {
            "needs_background": "light"
          }
        },
        {
          "output_type": "execute_result",
          "data": {
            "text/plain": [
              "F_onewayResult(statistic=0.5667851690722862, pvalue=0.6372599526845)"
            ]
          },
          "metadata": {},
          "execution_count": 19
        }
      ]
    },
    {
      "cell_type": "code",
      "source": [
        "from scipy.stats import chisquare\n",
        "chisquare([16, 18, 16, 14, 12, 12])"
      ],
      "metadata": {
        "colab": {
          "base_uri": "https://localhost:8080/"
        },
        "id": "CgrnvG88zQ2S",
        "outputId": "68f426c4-1965-444b-f8d7-611205fc902b"
      },
      "execution_count": 20,
      "outputs": [
        {
          "output_type": "execute_result",
          "data": {
            "text/plain": [
              "Power_divergenceResult(statistic=2.0, pvalue=0.8491450360846096)"
            ]
          },
          "metadata": {},
          "execution_count": 20
        }
      ]
    },
    {
      "cell_type": "code",
      "source": [
        "obs = np.array([[16, 18, 16, 14, 12, 12], [32, 24, 16, 28, 20, 24]]).T\n",
        "print(obs.shape)\n",
        "chisquare(obs)"
      ],
      "metadata": {
        "colab": {
          "base_uri": "https://localhost:8080/"
        },
        "id": "ZXQKY0_4zT2D",
        "outputId": "c0d56c58-82ff-48ac-f38c-30c80c400ffb"
      },
      "execution_count": 21,
      "outputs": [
        {
          "output_type": "stream",
          "name": "stdout",
          "text": [
            "(6, 2)\n"
          ]
        },
        {
          "output_type": "execute_result",
          "data": {
            "text/plain": [
              "Power_divergenceResult(statistic=array([2.        , 6.66666667]), pvalue=array([0.84914504, 0.24663415]))"
            ]
          },
          "metadata": {},
          "execution_count": 21
        }
      ]
    },
    {
      "cell_type": "code",
      "source": [
        "chisquare(obs, axis=None)\n",
        "#By setting axis=None, the test is applied to all data in the array,\n",
        "#which is equivalent to applying the test to the flattened array.\n",
        "\n",
        "chisquare(obs.ravel())\n",
        "print(obs.ravel())"
      ],
      "metadata": {
        "colab": {
          "base_uri": "https://localhost:8080/"
        },
        "id": "u4cN0OzpzYe9",
        "outputId": "485d7721-bbc0-43b7-90bc-53b4ca824c25"
      },
      "execution_count": 22,
      "outputs": [
        {
          "output_type": "stream",
          "name": "stdout",
          "text": [
            "[16 32 18 24 16 16 14 28 12 20 12 24]\n"
          ]
        }
      ]
    },
    {
      "cell_type": "code",
      "source": [
        "from scipy.stats import chi2_contingency\n",
        "  \n",
        "# defining the table\n",
        "data = [[1, 2, 3], [1, 2, 3]]\n",
        "stat, p, dof, expected = chi2_contingency(data)\n",
        "print(stat, p, dof, expected) \n",
        "# interpret p-value\n",
        "alpha = 0.05\n",
        "print(\"p value is \" + str(p))\n",
        "if p <= alpha:\n",
        "    print('Dependent (reject H0)')\n",
        "else:\n",
        "    print('Independent (H0 holds true)')"
      ],
      "metadata": {
        "colab": {
          "base_uri": "https://localhost:8080/"
        },
        "id": "0ryo149Rzcxj",
        "outputId": "437054ea-1106-4ab2-f5a2-f73cc19965ba"
      },
      "execution_count": 23,
      "outputs": [
        {
          "output_type": "stream",
          "name": "stdout",
          "text": [
            "0.0 1.0 2 [[1. 2. 3.]\n",
            " [1. 2. 3.]]\n",
            "p value is 1.0\n",
            "Independent (H0 holds true)\n"
          ]
        }
      ]
    }
  ]
}