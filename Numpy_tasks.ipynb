{
  "cells": [
    {
      "cell_type": "markdown",
      "metadata": {
        "id": "view-in-github",
        "colab_type": "text"
      },
      "source": [
        "<a href=\"https://colab.research.google.com/github/karthikhub19/Assignments/blob/main/Numpy_tasks.ipynb\" target=\"_parent\"><img src=\"https://colab.research.google.com/assets/colab-badge.svg\" alt=\"Open In Colab\"/></a>"
      ]
    },
    {
      "cell_type": "markdown",
      "metadata": {
        "id": "-gY_W-d4NGBf"
      },
      "source": [
        "# Numpy\n",
        "\n"
      ]
    },
    {
      "cell_type": "markdown",
      "metadata": {
        "id": "NJeUfeEsNGBx"
      },
      "source": [
        "#### 1. Import the numpy package under the name `np` (★☆☆) \n",
        "(**hint**: import … as …)"
      ]
    },
    {
      "cell_type": "code",
      "execution_count": 2,
      "metadata": {
        "collapsed": true,
        "id": "uQlBs58ONGB0"
      },
      "outputs": [],
      "source": [
        "import numpy as np"
      ]
    },
    {
      "cell_type": "markdown",
      "metadata": {
        "id": "hwgFXcBVNGB4"
      },
      "source": [
        "#### 2. Print the numpy version and the configuration (★☆☆) \n",
        "(**hint**: np.\\_\\_version\\_\\_, np.show\\_config)"
      ]
    },
    {
      "cell_type": "code",
      "execution_count": 3,
      "metadata": {
        "id": "cMvcPRnWNGB7",
        "colab": {
          "base_uri": "https://localhost:8080/"
        },
        "outputId": "9f745f08-26c8-4e0b-bfc5-291824506ab2"
      },
      "outputs": [
        {
          "output_type": "stream",
          "name": "stdout",
          "text": [
            "1.19.5\n",
            "blas_mkl_info:\n",
            "  NOT AVAILABLE\n",
            "blis_info:\n",
            "  NOT AVAILABLE\n",
            "openblas_info:\n",
            "    libraries = ['openblas', 'openblas']\n",
            "    library_dirs = ['/usr/local/lib']\n",
            "    language = c\n",
            "    define_macros = [('HAVE_CBLAS', None)]\n",
            "blas_opt_info:\n",
            "    libraries = ['openblas', 'openblas']\n",
            "    library_dirs = ['/usr/local/lib']\n",
            "    language = c\n",
            "    define_macros = [('HAVE_CBLAS', None)]\n",
            "lapack_mkl_info:\n",
            "  NOT AVAILABLE\n",
            "openblas_lapack_info:\n",
            "    libraries = ['openblas', 'openblas']\n",
            "    library_dirs = ['/usr/local/lib']\n",
            "    language = c\n",
            "    define_macros = [('HAVE_CBLAS', None)]\n",
            "lapack_opt_info:\n",
            "    libraries = ['openblas', 'openblas']\n",
            "    library_dirs = ['/usr/local/lib']\n",
            "    language = c\n",
            "    define_macros = [('HAVE_CBLAS', None)]\n"
          ]
        }
      ],
      "source": [
        "print(np.__version__)\n",
        "np.show_config()"
      ]
    },
    {
      "cell_type": "markdown",
      "metadata": {
        "id": "-sl10chgNGB8"
      },
      "source": [
        "#### 3. Create a null vector of size 10 (★☆☆) \n",
        "(**hint**: np.zeros)"
      ]
    },
    {
      "cell_type": "code",
      "execution_count": 4,
      "metadata": {
        "id": "Vw7gISBhNGB-",
        "colab": {
          "base_uri": "https://localhost:8080/"
        },
        "outputId": "17ab05fc-ae53-4b0a-d44e-b0e14937f94f"
      },
      "outputs": [
        {
          "output_type": "stream",
          "name": "stdout",
          "text": [
            "[0. 0. 0. 0. 0. 0. 0. 0. 0. 0.]\n"
          ]
        }
      ],
      "source": [
        "Z = np.zeros(10)\n",
        "print(Z)"
      ]
    },
    {
      "cell_type": "markdown",
      "metadata": {
        "id": "xW1xrK0HNGCB"
      },
      "source": [
        "#### 4.  How to find the memory size of any array (★☆☆) \n",
        "(**hint**: size, itemsize)"
      ]
    },
    {
      "cell_type": "code",
      "execution_count": 5,
      "metadata": {
        "id": "0Uwc4p3gNGCH",
        "colab": {
          "base_uri": "https://localhost:8080/"
        },
        "outputId": "7fa711b8-26f5-4bc5-a644-a61ca4194d8f"
      },
      "outputs": [
        {
          "output_type": "stream",
          "name": "stdout",
          "text": [
            "800 bytes\n"
          ]
        }
      ],
      "source": [
        "Z = np.zeros((10,10))\n",
        "print(\"%d bytes\" % (Z.size * Z.itemsize))"
      ]
    },
    {
      "cell_type": "markdown",
      "metadata": {
        "id": "xgOqTyYwNGCK"
      },
      "source": [
        "#### 5.  How to get the documentation of the numpy add function from the command line? (★☆☆) \n",
        "(**hint**: np.info)"
      ]
    },
    {
      "cell_type": "code",
      "execution_count": 6,
      "metadata": {
        "collapsed": true,
        "id": "gBZZ2qk8NGCM"
      },
      "outputs": [],
      "source": [
        "np.info()"
      ]
    },
    {
      "cell_type": "markdown",
      "metadata": {
        "id": "4x26moVBNGCN"
      },
      "source": [
        "#### 6.  Create a null vector of size 10 but the fifth value which is 1 (★☆☆) \n",
        "(**hint**: array\\[4\\])"
      ]
    },
    {
      "cell_type": "code",
      "execution_count": 7,
      "metadata": {
        "id": "n_3H4M7QNGCP",
        "colab": {
          "base_uri": "https://localhost:8080/"
        },
        "outputId": "f87878d3-7281-4e1b-afc8-497b65cd83ec"
      },
      "outputs": [
        {
          "output_type": "stream",
          "name": "stdout",
          "text": [
            "[0. 0. 0. 0. 1. 0. 0. 0. 0. 0.]\n"
          ]
        }
      ],
      "source": [
        "Z = np.zeros(10)\n",
        "Z[4] = 1\n",
        "print(Z)"
      ]
    },
    {
      "cell_type": "markdown",
      "metadata": {
        "id": "dRiMUpEKNGCQ"
      },
      "source": [
        "#### 7.  Create a vector with values ranging from 10 to 49 (★☆☆) \n",
        "(**hint**: np.arange)"
      ]
    },
    {
      "cell_type": "code",
      "execution_count": 8,
      "metadata": {
        "id": "0YXaUPLmNGCS",
        "colab": {
          "base_uri": "https://localhost:8080/"
        },
        "outputId": "29c8a14c-b618-4570-f200-e29dc9ad9684"
      },
      "outputs": [
        {
          "output_type": "stream",
          "name": "stdout",
          "text": [
            "[10 11 12 13 14 15 16 17 18 19 20 21 22 23 24 25 26 27 28 29 30 31 32 33\n",
            " 34 35 36 37 38 39 40 41 42 43 44 45 46 47 48 49]\n"
          ]
        }
      ],
      "source": [
        "Z = np.arange(10,50)\n",
        "print(Z)"
      ]
    },
    {
      "cell_type": "markdown",
      "metadata": {
        "id": "yCtePDByNGCT"
      },
      "source": [
        "#### 8.  Reverse a vector (first element becomes last) (★☆☆) \n",
        "(**hint**: array\\[::-1\\])"
      ]
    },
    {
      "cell_type": "code",
      "execution_count": 10,
      "metadata": {
        "id": "i9GMu1R0NGCV"
      },
      "outputs": [],
      "source": [
        "Z = np.arange(50)\n",
        "Z = Z[::-1]"
      ]
    },
    {
      "cell_type": "markdown",
      "metadata": {
        "id": "ScxZiTJLNGCV"
      },
      "source": [
        "#### 9.  Create a 3x3 matrix with values ranging from 0 to 8 (★☆☆) \n",
        "(**hint**: reshape)"
      ]
    },
    {
      "cell_type": "code",
      "execution_count": 11,
      "metadata": {
        "id": "wmL78Y2MNGCY",
        "colab": {
          "base_uri": "https://localhost:8080/"
        },
        "outputId": "15a01a06-1811-4672-8c44-56ea1cf6990b"
      },
      "outputs": [
        {
          "output_type": "stream",
          "name": "stdout",
          "text": [
            "[[0 1 2]\n",
            " [3 4 5]\n",
            " [6 7 8]]\n"
          ]
        }
      ],
      "source": [
        "Z = np.arange(9).reshape(3,3)\n",
        "print(Z)"
      ]
    },
    {
      "cell_type": "markdown",
      "metadata": {
        "id": "zFjxVgnbNGCZ"
      },
      "source": [
        "#### 10. Find indices of non-zero elements from \\[1,2,0,0,4,0\\] (★☆☆) \n",
        "(**hint**: np.nonzero)"
      ]
    },
    {
      "cell_type": "code",
      "execution_count": 12,
      "metadata": {
        "id": "G7eLN7PWNGCb",
        "colab": {
          "base_uri": "https://localhost:8080/"
        },
        "outputId": "3d286850-9f32-40bf-fd00-3c57aaf25db2"
      },
      "outputs": [
        {
          "metadata": {
            "tags": null
          },
          "name": "stdout",
          "output_type": "stream",
          "text": [
            "(array([0, 1, 4]),)\n"
          ]
        }
      ],
      "source": [
        "nz = np.nonzero([1,2,0,0,4,0])\n",
        "print(nz)"
      ]
    },
    {
      "cell_type": "markdown",
      "metadata": {
        "id": "mrK965wyNGCc"
      },
      "source": [
        "#### 11. Create a 3x3 identity matrix (★☆☆) \n",
        "(**hint**: np.eye)"
      ]
    },
    {
      "cell_type": "code",
      "execution_count": 13,
      "metadata": {
        "id": "C5qenMjDNGCd",
        "colab": {
          "base_uri": "https://localhost:8080/"
        },
        "outputId": "6bbe43e1-35e1-4d12-e46d-0cc2624621f4"
      },
      "outputs": [
        {
          "output_type": "stream",
          "name": "stdout",
          "text": [
            "[[1. 0. 0.]\n",
            " [0. 1. 0.]\n",
            " [0. 0. 1.]]\n"
          ]
        }
      ],
      "source": [
        "Z = np.eye(3)\n",
        "print(Z)"
      ]
    },
    {
      "cell_type": "markdown",
      "metadata": {
        "id": "msxgM-vpNGCe"
      },
      "source": [
        "#### 12. Create a 3x3x3 array with random values (★☆☆) \n",
        "(**hint**: np.random.random)"
      ]
    },
    {
      "cell_type": "code",
      "execution_count": 14,
      "metadata": {
        "collapsed": true,
        "id": "0BxrSG02NGCf",
        "colab": {
          "base_uri": "https://localhost:8080/"
        },
        "outputId": "a69de4c4-4d04-4457-ce22-d016369bcc84"
      },
      "outputs": [
        {
          "output_type": "stream",
          "name": "stdout",
          "text": [
            "[[[0.66968438 0.25003529 0.57257223]\n",
            "  [0.19976337 0.54308908 0.27996551]\n",
            "  [0.57044624 0.94214501 0.17709276]]\n",
            "\n",
            " [[0.54002292 0.24975881 0.80517822]\n",
            "  [0.54372212 0.12653203 0.08553513]\n",
            "  [0.06148424 0.44826611 0.6310826 ]]\n",
            "\n",
            " [[0.73147075 0.19221125 0.28940045]\n",
            "  [0.39639324 0.83321099 0.48772351]\n",
            "  [0.95406251 0.31040996 0.70085748]]]\n"
          ]
        }
      ],
      "source": [
        "Z = np.random.random((3,3,3))\n",
        "print(Z)"
      ]
    },
    {
      "cell_type": "markdown",
      "metadata": {
        "id": "awtP_96sNGCg"
      },
      "source": [
        "#### 13. Create a 10x10 array with random values and find the minimum and maximum values (★☆☆) \n",
        "(**hint**: min, max)"
      ]
    },
    {
      "cell_type": "code",
      "execution_count": 15,
      "metadata": {
        "id": "1eHY-3FKNGCi",
        "colab": {
          "base_uri": "https://localhost:8080/"
        },
        "outputId": "24f69c27-c46e-497d-9c1b-61c5f41fdfa6"
      },
      "outputs": [
        {
          "output_type": "stream",
          "name": "stdout",
          "text": [
            "0.020471870289653804 0.9991379519294988\n"
          ]
        }
      ],
      "source": [
        "Z=np.random.random((10,10))\n",
        "Zmin,Zmax=Z.min(),Z.max()\n",
        "print(Zmin,Zmax)"
      ]
    },
    {
      "cell_type": "markdown",
      "metadata": {
        "id": "13pwQ0rONGCi"
      },
      "source": [
        "#### 14. Create a random vector of size 30 and find the mean value (★☆☆) \n",
        "(**hint**: mean)"
      ]
    },
    {
      "cell_type": "code",
      "execution_count": 16,
      "metadata": {
        "id": "rjYOSijHNGCj",
        "colab": {
          "base_uri": "https://localhost:8080/"
        },
        "outputId": "ef8c642c-c62b-4786-e8cd-00ee1d36c116"
      },
      "outputs": [
        {
          "output_type": "stream",
          "name": "stdout",
          "text": [
            "0.5518927347163741\n"
          ]
        }
      ],
      "source": [
        "Z = np.random.random(30)\n",
        "m = Z.mean()\n",
        "print(m)"
      ]
    },
    {
      "cell_type": "markdown",
      "metadata": {
        "id": "T-qUWtyqNGCk"
      },
      "source": [
        "#### 15. Create a 2d array with 1 on the border and 0 inside (★☆☆) \n",
        "(**hint**: array\\[1:-1, 1:-1\\])"
      ]
    },
    {
      "cell_type": "code",
      "execution_count": 17,
      "metadata": {
        "id": "Rg99zv2hNGCl",
        "colab": {
          "base_uri": "https://localhost:8080/"
        },
        "outputId": "6fe6a7ba-9a6c-4793-a8fb-a5e12a531aee"
      },
      "outputs": [
        {
          "output_type": "stream",
          "name": "stdout",
          "text": [
            "[[1. 1. 1. 1. 1. 1. 1. 1. 1. 1.]\n",
            " [1. 0. 0. 0. 0. 0. 0. 0. 0. 1.]\n",
            " [1. 0. 0. 0. 0. 0. 0. 0. 0. 1.]\n",
            " [1. 0. 0. 0. 0. 0. 0. 0. 0. 1.]\n",
            " [1. 0. 0. 0. 0. 0. 0. 0. 0. 1.]\n",
            " [1. 0. 0. 0. 0. 0. 0. 0. 0. 1.]\n",
            " [1. 0. 0. 0. 0. 0. 0. 0. 0. 1.]\n",
            " [1. 0. 0. 0. 0. 0. 0. 0. 0. 1.]\n",
            " [1. 0. 0. 0. 0. 0. 0. 0. 0. 1.]\n",
            " [1. 1. 1. 1. 1. 1. 1. 1. 1. 1.]]\n"
          ]
        }
      ],
      "source": [
        "Z = np.ones((10,10))\n",
        "Z[1:-1,1:-1] = 0\n",
        "print(Z)"
      ]
    },
    {
      "cell_type": "markdown",
      "metadata": {
        "id": "sB16yi5ANGCm"
      },
      "source": [
        "#### 16. How to add a border (filled with 0's) around an existing array? (★☆☆) \n",
        "(**hint**: np.pad)"
      ]
    },
    {
      "cell_type": "code",
      "execution_count": 18,
      "metadata": {
        "id": "088KJCCvNGCn",
        "colab": {
          "base_uri": "https://localhost:8080/"
        },
        "outputId": "e81a5e2c-1852-4b87-96d0-e6979f35cfec"
      },
      "outputs": [
        {
          "output_type": "stream",
          "name": "stdout",
          "text": [
            "[[0. 0. 0. 0. 0. 0. 0. 0. 0. 0.]\n",
            " [0. 1. 1. 1. 1. 1. 1. 1. 1. 0.]\n",
            " [0. 1. 1. 1. 1. 1. 1. 1. 1. 0.]\n",
            " [0. 1. 1. 1. 1. 1. 1. 1. 1. 0.]\n",
            " [0. 1. 1. 1. 1. 1. 1. 1. 1. 0.]\n",
            " [0. 1. 1. 1. 1. 1. 1. 1. 1. 0.]\n",
            " [0. 1. 1. 1. 1. 1. 1. 1. 1. 0.]\n",
            " [0. 1. 1. 1. 1. 1. 1. 1. 1. 0.]\n",
            " [0. 1. 1. 1. 1. 1. 1. 1. 1. 0.]\n",
            " [0. 0. 0. 0. 0. 0. 0. 0. 0. 0.]]\n"
          ]
        }
      ],
      "source": [
        "Z = np.zeros((10,10))\n",
        "Z[1:-1,1:-1] = 1\n",
        "print(Z)"
      ]
    },
    {
      "cell_type": "markdown",
      "metadata": {
        "id": "Z7mWomR6NGCo"
      },
      "source": [
        "#### 17. What is the result of the following expression? (★☆☆) \n",
        "(**hint**: NaN = not a number, inf = infinity)"
      ]
    },
    {
      "cell_type": "markdown",
      "metadata": {
        "id": "dpjptZn5NGCq"
      },
      "source": [
        "```python\n",
        "0 * np.nan\n",
        "np.nan == np.nan\n",
        "np.inf > np.nan\n",
        "np.nan - np.nan\n",
        "0.3 == 3 * 0.1\n",
        "```"
      ]
    },
    {
      "cell_type": "code",
      "execution_count": 30,
      "metadata": {
        "id": "Mzc5SYQjNGCs",
        "colab": {
          "base_uri": "https://localhost:8080/"
        },
        "outputId": "be4922d8-e9f8-4b5e-a74f-aecbc33fe439"
      },
      "outputs": [
        {
          "output_type": "stream",
          "name": "stdout",
          "text": [
            "nan False False nan False\n"
          ]
        }
      ],
      "source": [
        "print(0 * np.nan,\n",
        "np.nan == np.nan,\n",
        "np.inf > np.nan,\n",
        "np.nan - np.nan,\n",
        "0.3 == 3 * 0.1)"
      ]
    },
    {
      "cell_type": "markdown",
      "metadata": {
        "id": "va72webuNGCt"
      },
      "source": [
        "#### 18. Create a 5x5 matrix with values 1,2,3,4 just below the diagonal (★☆☆) \n",
        "(**hint**: np.diag)"
      ]
    },
    {
      "cell_type": "code",
      "execution_count": 20,
      "metadata": {
        "id": "sh5iYVRJNGCu",
        "colab": {
          "base_uri": "https://localhost:8080/"
        },
        "outputId": "49552b7e-a19a-4235-e5a7-cabc0e244926"
      },
      "outputs": [
        {
          "output_type": "stream",
          "name": "stdout",
          "text": [
            "[[0 0 0 0 0]\n",
            " [1 0 0 0 0]\n",
            " [0 2 0 0 0]\n",
            " [0 0 3 0 0]\n",
            " [0 0 0 4 0]]\n"
          ]
        }
      ],
      "source": [
        "Z = np.diag(1+np.arange(4),k=-1)\n",
        "print(Z)"
      ]
    },
    {
      "cell_type": "markdown",
      "metadata": {
        "id": "BjJqhJB9NGCv"
      },
      "source": [
        "#### 19. Create a 8x8 matrix and fill it with a checkerboard pattern (★☆☆) \n",
        "(**hint**: array\\[::2\\])"
      ]
    },
    {
      "cell_type": "code",
      "execution_count": 21,
      "metadata": {
        "id": "637HU_3oNGCw",
        "colab": {
          "base_uri": "https://localhost:8080/"
        },
        "outputId": "f4096706-757c-425f-828f-9607197d1429"
      },
      "outputs": [
        {
          "output_type": "stream",
          "name": "stdout",
          "text": [
            "[[0 1 0 1 0 1 0 1]\n",
            " [1 0 1 0 1 0 1 0]\n",
            " [0 1 0 1 0 1 0 1]\n",
            " [1 0 1 0 1 0 1 0]\n",
            " [0 1 0 1 0 1 0 1]\n",
            " [1 0 1 0 1 0 1 0]\n",
            " [0 1 0 1 0 1 0 1]\n",
            " [1 0 1 0 1 0 1 0]]\n"
          ]
        }
      ],
      "source": [
        "Z = np.zeros((8,8),dtype=int)\n",
        "Z[1::2,::2] = 1\n",
        "Z[::2,1::2] = 1\n",
        "print(Z)"
      ]
    },
    {
      "cell_type": "markdown",
      "metadata": {
        "id": "oHAQtkdENGCx"
      },
      "source": [
        "#### 20. Consider a (6,7,8) shape array, what is the index (x,y,z) of the 100th element? \n",
        "(**hint**: np.unravel_index)"
      ]
    },
    {
      "cell_type": "code",
      "execution_count": 22,
      "metadata": {
        "id": "VuF9Qr1yNGCy",
        "colab": {
          "base_uri": "https://localhost:8080/"
        },
        "outputId": "d96d04eb-1b98-4d60-c071-151b63854765"
      },
      "outputs": [
        {
          "output_type": "stream",
          "name": "stdout",
          "text": [
            "(1, 5, 4)\n"
          ]
        }
      ],
      "source": [
        "print(np.unravel_index(100,(6,7,8)))"
      ]
    },
    {
      "cell_type": "markdown",
      "metadata": {
        "id": "cAMoqT3oNGCz"
      },
      "source": [
        "#### 21. Create a checkerboard 8x8 matrix using the tile function (★☆☆) \n",
        "(**hint**: np.tile)"
      ]
    },
    {
      "cell_type": "code",
      "execution_count": 23,
      "metadata": {
        "id": "wgviWaytNGC0",
        "colab": {
          "base_uri": "https://localhost:8080/"
        },
        "outputId": "c42343e3-b11e-4077-f2f1-3a63203bfc49"
      },
      "outputs": [
        {
          "output_type": "stream",
          "name": "stdout",
          "text": [
            "[[0 1 0 1 0 1 0 1]\n",
            " [1 0 1 0 1 0 1 0]\n",
            " [0 1 0 1 0 1 0 1]\n",
            " [1 0 1 0 1 0 1 0]\n",
            " [0 1 0 1 0 1 0 1]\n",
            " [1 0 1 0 1 0 1 0]\n",
            " [0 1 0 1 0 1 0 1]\n",
            " [1 0 1 0 1 0 1 0]]\n"
          ]
        }
      ],
      "source": [
        "Z = np.tile( np.array([[0,1],[1,0]]), (4,4))\n",
        "print(Z)"
      ]
    },
    {
      "cell_type": "markdown",
      "metadata": {
        "id": "xUjCQRuLNGC0"
      },
      "source": [
        "#### 22. Normalize a 5x5 random matrix (★☆☆) \n",
        "(**hint**: (x - min) / (max - min))"
      ]
    },
    {
      "cell_type": "code",
      "execution_count": 24,
      "metadata": {
        "id": "ESXRnMA6NGC1",
        "colab": {
          "base_uri": "https://localhost:8080/"
        },
        "outputId": "7f14b1cc-20d2-4db3-8f0c-f34652c365cc"
      },
      "outputs": [
        {
          "output_type": "stream",
          "name": "stdout",
          "text": [
            "[[-0.38070178  0.20343512 -0.89906637  1.07102837 -1.04853648]\n",
            " [ 1.35291135  0.93574992 -1.5902268  -0.96349602 -1.32031444]\n",
            " [-0.14131012 -0.80134873  1.09705898 -0.45447266 -0.73097846]\n",
            " [-1.50032285  0.09905333  0.92803321  1.90022431  0.48506008]\n",
            " [ 0.32107448  1.18114802 -1.26955167  0.71726581  0.80828339]]\n"
          ]
        }
      ],
      "source": [
        "Z = np.random.random((5,5))\n",
        "Z = (Z - np.mean (Z)) / (np.std (Z))\n",
        "print(Z)"
      ]
    },
    {
      "cell_type": "markdown",
      "metadata": {
        "id": "KC8LtH8HNGC2"
      },
      "source": [
        "#### 23. Create a custom dtype that describes a color as four unsigned bytes (RGBA) (★☆☆) \n",
        "(**hint**: np.dtype)"
      ]
    },
    {
      "cell_type": "code",
      "execution_count": 25,
      "metadata": {
        "collapsed": true,
        "id": "f1cAVpLSNGC3",
        "colab": {
          "base_uri": "https://localhost:8080/"
        },
        "outputId": "161dca26-d8da-4e6c-9fba-a207b302d3ef"
      },
      "outputs": [
        {
          "output_type": "stream",
          "name": "stderr",
          "text": [
            "/usr/local/lib/python3.7/dist-packages/ipykernel_launcher.py:4: FutureWarning: Passing (type, 1) or '1type' as a synonym of type is deprecated; in a future version of numpy, it will be understood as (type, (1,)) / '(1,)type'.\n",
            "  after removing the cwd from sys.path.\n"
          ]
        }
      ],
      "source": [
        "color = np.dtype([(\"r\", np.ubyte, 1),\n",
        "                  (\"g\", np.ubyte, 1),\n",
        "                  (\"b\", np.ubyte, 1),\n",
        "                  (\"a\", np.ubyte, 1)])\n"
      ]
    },
    {
      "cell_type": "markdown",
      "metadata": {
        "id": "JFtfqc4LNGC4"
      },
      "source": [
        "#### 24. Multiply a 5x3 matrix by a 3x2 matrix (real matrix product) (★☆☆) \n",
        "(**hint**: np.dot | @)"
      ]
    },
    {
      "cell_type": "code",
      "execution_count": 26,
      "metadata": {
        "id": "TiWQov4VNGC6",
        "colab": {
          "base_uri": "https://localhost:8080/"
        },
        "outputId": "6f700dcf-a3a8-4b12-ffd7-85677a4f601a"
      },
      "outputs": [
        {
          "output_type": "stream",
          "name": "stdout",
          "text": [
            "[[3. 3.]\n",
            " [3. 3.]\n",
            " [3. 3.]\n",
            " [3. 3.]\n",
            " [3. 3.]]\n"
          ]
        }
      ],
      "source": [
        "Z = np.dot(np.ones((5,3)), np.ones((3,2)))\n",
        "print(Z)"
      ]
    },
    {
      "cell_type": "markdown",
      "metadata": {
        "id": "Ya_QiKSXNGC7"
      },
      "source": [
        "#### 25. Given a 1D array, negate all elements which are between 3 and 8, in place. (★☆☆) \n",
        "(**hint**: >, <=)"
      ]
    },
    {
      "cell_type": "code",
      "execution_count": 27,
      "metadata": {
        "id": "9xJ8wYEPNGC8",
        "colab": {
          "base_uri": "https://localhost:8080/"
        },
        "outputId": "e9f44c68-fa1c-4235-bbd1-82eeab40c9cf"
      },
      "outputs": [
        {
          "output_type": "stream",
          "name": "stdout",
          "text": [
            "[ 0  1  2  3 -4 -5 -6 -7 -8  9 10]\n"
          ]
        }
      ],
      "source": [
        "Z = np.arange(11)\n",
        "Z[(3 < Z) & (Z <= 8)] *= -1\n",
        "print(Z)"
      ]
    },
    {
      "cell_type": "markdown",
      "metadata": {
        "id": "aiquI7JyNGC8"
      },
      "source": [
        "#### 26. What is the output of the following script? (★☆☆) \n",
        "(**hint**: np.sum)"
      ]
    },
    {
      "cell_type": "markdown",
      "metadata": {
        "id": "GMYnsP-8NGC9"
      },
      "source": [
        "```python\n",
        "# Author: Jake VanderPlas\n",
        "\n",
        "print(sum(range(5),-1))\n",
        "from numpy import *\n",
        "print(sum(range(5),-1))\n",
        "```"
      ]
    },
    {
      "cell_type": "code",
      "execution_count": 28,
      "metadata": {
        "id": "PlC8b2R6NGC-",
        "colab": {
          "base_uri": "https://localhost:8080/"
        },
        "outputId": "1c5df3c3-945c-4c53-91ee-044198e0a97b"
      },
      "outputs": [
        {
          "output_type": "stream",
          "name": "stdout",
          "text": [
            "9\n",
            "10\n"
          ]
        }
      ],
      "source": [
        "print(sum(range(5),-1))\n",
        "from numpy import *\n",
        "print(sum(range(5),-1))"
      ]
    },
    {
      "cell_type": "markdown",
      "metadata": {
        "id": "Q1yDD5d7NGC_"
      },
      "source": [
        "#### 27. Consider an integer vector Z, which of these expressions are legal? (★☆☆)"
      ]
    },
    {
      "cell_type": "markdown",
      "metadata": {
        "id": "dnfFqb7aNGDA"
      },
      "source": [
        "```python\n",
        "Z**Z\n",
        "2 << Z >> 2\n",
        "Z <- Z\n",
        "1j*Z\n",
        "Z/1/1\n",
        "Z<Z>Z\n",
        "```"
      ]
    },
    {
      "cell_type": "code",
      "execution_count": 31,
      "metadata": {
        "id": "CpMzoZyLNGDB",
        "colab": {
          "base_uri": "https://localhost:8080/",
          "height": 235
        },
        "outputId": "6cd474da-06a2-4a23-abf1-530bc4a7b20d"
      },
      "outputs": [
        {
          "output_type": "error",
          "ename": "ValueError",
          "evalue": "ignored",
          "traceback": [
            "\u001b[0;31m---------------------------------------------------------------------------\u001b[0m",
            "\u001b[0;31mValueError\u001b[0m                                Traceback (most recent call last)",
            "\u001b[0;32m<ipython-input-31-4e3654d03fce>\u001b[0m in \u001b[0;36m<module>\u001b[0;34m()\u001b[0m\n\u001b[0;32m----> 1\u001b[0;31m \u001b[0mZ\u001b[0m\u001b[0;34m**\u001b[0m\u001b[0mZ\u001b[0m\u001b[0;34m\u001b[0m\u001b[0;34m\u001b[0m\u001b[0m\n\u001b[0m\u001b[1;32m      2\u001b[0m \u001b[0;36m2\u001b[0m \u001b[0;34m<<\u001b[0m \u001b[0mZ\u001b[0m \u001b[0;34m>>\u001b[0m \u001b[0;36m2\u001b[0m\u001b[0;34m\u001b[0m\u001b[0;34m\u001b[0m\u001b[0m\n\u001b[1;32m      3\u001b[0m \u001b[0mZ\u001b[0m \u001b[0;34m<\u001b[0m\u001b[0;34m-\u001b[0m \u001b[0mZ\u001b[0m\u001b[0;34m\u001b[0m\u001b[0;34m\u001b[0m\u001b[0m\n\u001b[1;32m      4\u001b[0m \u001b[0;36m1j\u001b[0m\u001b[0;34m*\u001b[0m\u001b[0mZ\u001b[0m\u001b[0;34m\u001b[0m\u001b[0;34m\u001b[0m\u001b[0m\n\u001b[1;32m      5\u001b[0m \u001b[0mZ\u001b[0m\u001b[0;34m/\u001b[0m\u001b[0;36m1\u001b[0m\u001b[0;34m/\u001b[0m\u001b[0;36m1\u001b[0m\u001b[0;34m\u001b[0m\u001b[0;34m\u001b[0m\u001b[0m\n",
            "\u001b[0;31mValueError\u001b[0m: Integers to negative integer powers are not allowed."
          ]
        }
      ],
      "source": [
        "Z**Z\n",
        "2 << Z >> 2\n",
        "Z <- Z\n",
        "1j*Z\n",
        "Z/1/1\n",
        "Z<Z>Z"
      ]
    },
    {
      "cell_type": "markdown",
      "metadata": {
        "id": "cwdr4IqZNGDD"
      },
      "source": [
        "#### 28. What are the result of the following expressions?"
      ]
    },
    {
      "cell_type": "markdown",
      "metadata": {
        "id": "wK39GnpYNGDE"
      },
      "source": [
        "```python\n",
        "np.array(0) / np.array(0)\n",
        "np.array(0) // np.array(0)\n",
        "np.array([np.nan]).astype(int).astype(float)\n",
        "```"
      ]
    },
    {
      "cell_type": "code",
      "execution_count": 32,
      "metadata": {
        "id": "K7snWJZwNGDF",
        "colab": {
          "base_uri": "https://localhost:8080/"
        },
        "outputId": "7512d378-6755-49a0-a01a-c819b9caf2e5"
      },
      "outputs": [
        {
          "output_type": "stream",
          "name": "stdout",
          "text": [
            "nan 0 [-9.22337204e+18]\n"
          ]
        },
        {
          "output_type": "stream",
          "name": "stderr",
          "text": [
            "/usr/local/lib/python3.7/dist-packages/ipykernel_launcher.py:1: RuntimeWarning: invalid value encountered in true_divide\n",
            "  \"\"\"Entry point for launching an IPython kernel.\n",
            "/usr/local/lib/python3.7/dist-packages/ipykernel_launcher.py:2: RuntimeWarning: divide by zero encountered in floor_divide\n",
            "  \n"
          ]
        }
      ],
      "source": [
        "print(np.array(0) / np.array(0),\n",
        "np.array(0) // np.array(0),\n",
        "np.array([np.nan]).astype(int).astype(float))"
      ]
    },
    {
      "cell_type": "markdown",
      "metadata": {
        "id": "8sU7hDalNGDG"
      },
      "source": [
        "#### 29. How to round away from zero a float array ? (★☆☆) \n",
        "(**hint**: np.uniform, np.copysign, np.ceil, np.abs)"
      ]
    },
    {
      "cell_type": "code",
      "execution_count": 33,
      "metadata": {
        "id": "WUwSCDY2NGDH",
        "colab": {
          "base_uri": "https://localhost:8080/"
        },
        "outputId": "8c138504-bfae-4159-d4f3-ec1b9c29d409"
      },
      "outputs": [
        {
          "output_type": "stream",
          "name": "stdout",
          "text": [
            "[ 5. 10. -2. -6. -7.  4. -3. -9. -5. -8.]\n"
          ]
        }
      ],
      "source": [
        "Z = np.random.uniform(-10,+10,10)\n",
        "print (np.copysign(np.ceil(np.abs(Z)), Z))"
      ]
    },
    {
      "cell_type": "markdown",
      "metadata": {
        "id": "PuUTCaBmNGDI"
      },
      "source": [
        "#### 30. How to find common values between two arrays? (★☆☆) \n",
        "(**hint**: np.intersect1d)"
      ]
    },
    {
      "cell_type": "code",
      "execution_count": 34,
      "metadata": {
        "id": "FDlwFLgsNGDI",
        "colab": {
          "base_uri": "https://localhost:8080/"
        },
        "outputId": "efb365b0-9ca0-4699-9099-a40343522618"
      },
      "outputs": [
        {
          "output_type": "stream",
          "name": "stdout",
          "text": [
            "[4 6 7 8 9]\n"
          ]
        }
      ],
      "source": [
        "Z1 = np.random.randint(0,10,10)\n",
        "Z2 = np.random.randint(0,10,10)\n",
        "print(np.intersect1d(Z1,Z2))"
      ]
    },
    {
      "cell_type": "markdown",
      "metadata": {
        "id": "rALgZRmBNGDK"
      },
      "source": [
        "#### 31. How to ignore all numpy warnings (not recommended)? (★☆☆) \n",
        "(**hint**: np.seterr, np.errstate)"
      ]
    },
    {
      "cell_type": "code",
      "execution_count": 35,
      "metadata": {
        "id": "wc8IKjDuNGDL"
      },
      "outputs": [],
      "source": [
        "defaults = np.seterr(all=\"ignore\")\n",
        "Z = np.ones(1) / 0"
      ]
    },
    {
      "cell_type": "markdown",
      "metadata": {
        "id": "mUlIkG9BNGDM"
      },
      "source": [
        "#### 32. Is the following expressions true? (★☆☆) \n",
        "(**hint**: imaginary number)"
      ]
    },
    {
      "cell_type": "markdown",
      "metadata": {
        "id": "m3fqtEu0NGDM"
      },
      "source": [
        "```python\n",
        "np.sqrt(-1) == np.emath.sqrt(-1)\n",
        "```"
      ]
    },
    {
      "cell_type": "code",
      "execution_count": 36,
      "metadata": {
        "id": "Osg89cBtNGDN",
        "colab": {
          "base_uri": "https://localhost:8080/"
        },
        "outputId": "f0aa7a9b-3279-439a-898c-7fbdfadecb60"
      },
      "outputs": [
        {
          "output_type": "stream",
          "name": "stdout",
          "text": [
            "False\n"
          ]
        }
      ],
      "source": [
        "print(np.sqrt(-1) == np.emath.sqrt(-1))"
      ]
    },
    {
      "cell_type": "markdown",
      "metadata": {
        "id": "khpQSrI5NGDO"
      },
      "source": [
        "#### 33. How to get the dates of yesterday, today and tomorrow? (★☆☆) \n",
        "(**hint**: np.datetime64, np.timedelta64)"
      ]
    },
    {
      "cell_type": "code",
      "execution_count": 42,
      "metadata": {
        "collapsed": true,
        "id": "SVrX01Z-NGDP",
        "colab": {
          "base_uri": "https://localhost:8080/"
        },
        "outputId": "1d69fa10-7486-4c0a-a534-31ba93017b4c"
      },
      "outputs": [
        {
          "output_type": "stream",
          "name": "stdout",
          "text": [
            "2022-02-14 2022-02-15 2022-02-16\n"
          ]
        }
      ],
      "source": [
        "yesterday = np.datetime64('today', 'D') - np.timedelta64(1, 'D')\n",
        "today     = np.datetime64('today', 'D')\n",
        "tomorrow  = np.datetime64('today', 'D') + np.timedelta64(1, 'D')\n",
        "print(yesterday,today,tomorrow)"
      ]
    },
    {
      "cell_type": "markdown",
      "metadata": {
        "id": "_1JRMUfLNGDP"
      },
      "source": [
        "#### 34. How to get all the dates corresponding to the month of July 2016? (★★☆) \n",
        "(**hint**: np.arange(dtype=datetime64\\['D'\\]))"
      ]
    },
    {
      "cell_type": "code",
      "execution_count": 43,
      "metadata": {
        "id": "8m41BNNENGDQ",
        "colab": {
          "base_uri": "https://localhost:8080/"
        },
        "outputId": "bca50fbd-1c6b-4124-b3ad-48e51a4fc26f"
      },
      "outputs": [
        {
          "output_type": "stream",
          "name": "stdout",
          "text": [
            "['2016-07-01' '2016-07-02' '2016-07-03' '2016-07-04' '2016-07-05'\n",
            " '2016-07-06' '2016-07-07' '2016-07-08' '2016-07-09' '2016-07-10'\n",
            " '2016-07-11' '2016-07-12' '2016-07-13' '2016-07-14' '2016-07-15'\n",
            " '2016-07-16' '2016-07-17' '2016-07-18' '2016-07-19' '2016-07-20'\n",
            " '2016-07-21' '2016-07-22' '2016-07-23' '2016-07-24' '2016-07-25'\n",
            " '2016-07-26' '2016-07-27' '2016-07-28' '2016-07-29' '2016-07-30'\n",
            " '2016-07-31']\n"
          ]
        }
      ],
      "source": [
        "Z = np.arange('2016-07', '2016-08', dtype='datetime64[D]')\n",
        "print(Z)"
      ]
    },
    {
      "cell_type": "markdown",
      "metadata": {
        "id": "3p6XvBDINGDR"
      },
      "source": [
        "#### 35. How to compute ((A+B)\\*(-A/2)) in place (without copy)? (★★☆) \n",
        "(**hint**: np.add(out=), np.negative(out=), np.multiply(out=), np.divide(out=))"
      ]
    },
    {
      "cell_type": "code",
      "execution_count": 44,
      "metadata": {
        "id": "f6X3IZfVNGDS",
        "colab": {
          "base_uri": "https://localhost:8080/"
        },
        "outputId": "530b3524-e195-4897-eb9e-f8acf13969f5"
      },
      "outputs": [
        {
          "output_type": "execute_result",
          "data": {
            "text/plain": [
              "array([-1.5, -1.5, -1.5])"
            ]
          },
          "metadata": {},
          "execution_count": 44
        }
      ],
      "source": [
        "A = np.ones(3)*1\n",
        "B = np.ones(3)*2\n",
        "C = np.ones(3)*3\n",
        "np.add(A,B,out=B)\n",
        "np.divide(A,2,out=A)\n",
        "np.negative(A,out=A)\n",
        "np.multiply(A,B,out=A)"
      ]
    },
    {
      "cell_type": "markdown",
      "metadata": {
        "id": "YvXrAgMZNGDS"
      },
      "source": [
        "#### 36. Extract the integer part of a random array using 5 different methods (★★☆) \n",
        "(**hint**: %, np.floor, np.ceil, astype, np.trunc)"
      ]
    },
    {
      "cell_type": "code",
      "execution_count": 45,
      "metadata": {
        "id": "kLxmq06DNGDT",
        "colab": {
          "base_uri": "https://localhost:8080/"
        },
        "outputId": "71830a10-ec81-43c3-aeb8-f708fe4bf34b"
      },
      "outputs": [
        {
          "output_type": "stream",
          "name": "stdout",
          "text": [
            "[2. 3. 6. 7. 7. 9. 6. 4. 0. 3.]\n",
            "[2. 3. 6. 7. 7. 9. 6. 4. 0. 3.]\n",
            "[2. 3. 6. 7. 7. 9. 6. 4. 0. 3.]\n",
            "[2 3 6 7 7 9 6 4 0 3]\n",
            "[2. 3. 6. 7. 7. 9. 6. 4. 0. 3.]\n"
          ]
        }
      ],
      "source": [
        "Z = np.random.uniform(0,10,10)\n",
        "\n",
        "print (Z - Z%1)\n",
        "print (np.floor(Z))\n",
        "print (np.ceil(Z)-1)\n",
        "print (Z.astype(int))\n",
        "print (np.trunc(Z))"
      ]
    },
    {
      "cell_type": "markdown",
      "metadata": {
        "id": "M5C0FsMiNGDT"
      },
      "source": [
        "#### 37. Create a 5x5 matrix with row values ranging from 0 to 4 (★★☆) \n",
        "(**hint**: np.arange)"
      ]
    },
    {
      "cell_type": "code",
      "execution_count": 46,
      "metadata": {
        "id": "lSnEnllGNGDU",
        "colab": {
          "base_uri": "https://localhost:8080/"
        },
        "outputId": "ad14be7d-0034-432c-af22-03eaddcf29b9"
      },
      "outputs": [
        {
          "output_type": "stream",
          "name": "stdout",
          "text": [
            "[[0. 1. 2. 3. 4.]\n",
            " [0. 1. 2. 3. 4.]\n",
            " [0. 1. 2. 3. 4.]\n",
            " [0. 1. 2. 3. 4.]\n",
            " [0. 1. 2. 3. 4.]]\n"
          ]
        }
      ],
      "source": [
        "Z = np.zeros((5,5))\n",
        "Z += np.arange(5)\n",
        "print(Z)"
      ]
    },
    {
      "cell_type": "markdown",
      "metadata": {
        "id": "MBrr5u8cNGDV"
      },
      "source": [
        "#### 38. Consider a generator function that generates 10 integers and use it to build an array (★☆☆) \n",
        "(**hint**: np.fromiter)"
      ]
    },
    {
      "cell_type": "code",
      "execution_count": 47,
      "metadata": {
        "id": "bbPXptbCNGDW",
        "colab": {
          "base_uri": "https://localhost:8080/"
        },
        "outputId": "29893d1b-863f-40f6-d801-65d3fde1c33e"
      },
      "outputs": [
        {
          "output_type": "stream",
          "name": "stdout",
          "text": [
            "[0. 1. 2. 3. 4. 5. 6. 7. 8. 9.]\n"
          ]
        }
      ],
      "source": [
        "def generate():\n",
        "    for x in range(10):\n",
        "        yield x\n",
        "Z = np.fromiter(generate(),dtype=float,count=-1)\n",
        "print(Z)"
      ]
    },
    {
      "cell_type": "markdown",
      "metadata": {
        "id": "BeUOkvHHNGDW"
      },
      "source": [
        "#### 39. Create a vector of size 10 with values ranging from 0 to 1, both excluded (★★☆) \n",
        "(**hint**: np.linspace)"
      ]
    },
    {
      "cell_type": "code",
      "execution_count": 48,
      "metadata": {
        "id": "s9Ut400pNGDX",
        "colab": {
          "base_uri": "https://localhost:8080/"
        },
        "outputId": "7275d5a2-8976-463e-b0dc-aa64128cca79"
      },
      "outputs": [
        {
          "output_type": "stream",
          "name": "stdout",
          "text": [
            "[0.09090909 0.18181818 0.27272727 0.36363636 0.45454545 0.54545455\n",
            " 0.63636364 0.72727273 0.81818182 0.90909091]\n"
          ]
        }
      ],
      "source": [
        "Z = np.linspace(0,1,11,endpoint=False)[1:]\n",
        "print(Z)"
      ]
    },
    {
      "cell_type": "markdown",
      "metadata": {
        "id": "zSaIVWHSNGDY"
      },
      "source": [
        "#### 40. Create a random vector of size 10 and sort it (★★☆) \n",
        "(**hint**: sort)"
      ]
    },
    {
      "cell_type": "code",
      "execution_count": 49,
      "metadata": {
        "id": "emOrkqzXNGDZ",
        "colab": {
          "base_uri": "https://localhost:8080/"
        },
        "outputId": "e95942c5-9720-488c-f1e3-c723cd8a0539"
      },
      "outputs": [
        {
          "output_type": "stream",
          "name": "stdout",
          "text": [
            "[0.08306981 0.28307695 0.4058748  0.41455249 0.53504357 0.62666241\n",
            " 0.83185269 0.91414781 0.9149142  0.94466626]\n"
          ]
        }
      ],
      "source": [
        "Z = np.random.random(10)\n",
        "Z.sort()\n",
        "print(Z)"
      ]
    },
    {
      "cell_type": "markdown",
      "metadata": {
        "id": "Mi4oR4hONGDZ"
      },
      "source": [
        "#### 41. How to sum a small array faster than np.sum? (★★☆) \n",
        "(**hint**: np.add.reduce)"
      ]
    },
    {
      "cell_type": "code",
      "execution_count": 50,
      "metadata": {
        "id": "UELKeG-rNGDb",
        "colab": {
          "base_uri": "https://localhost:8080/"
        },
        "outputId": "6e2bdbfe-c5d3-43c9-b54e-471cc4caa84d"
      },
      "outputs": [
        {
          "output_type": "execute_result",
          "data": {
            "text/plain": [
              "45"
            ]
          },
          "metadata": {},
          "execution_count": 50
        }
      ],
      "source": [
        "Z = np.arange(10)\n",
        "np.add.reduce(Z)"
      ]
    },
    {
      "cell_type": "markdown",
      "metadata": {
        "id": "U_F1oEw7NGDb"
      },
      "source": [
        "#### 42. Consider two random array A and B, check if they are equal (★★☆) \n",
        "(**hint**: np.allclose, np.array\\_equal)"
      ]
    },
    {
      "cell_type": "code",
      "execution_count": 51,
      "metadata": {
        "id": "U6zfK1a3NGDc",
        "colab": {
          "base_uri": "https://localhost:8080/"
        },
        "outputId": "91f6f37a-4a0e-4f94-897f-535d69f9c505"
      },
      "outputs": [
        {
          "output_type": "stream",
          "name": "stdout",
          "text": [
            "False\n",
            "False\n"
          ]
        }
      ],
      "source": [
        "A = np.random.randint(0,2,5)\n",
        "B = np.random.randint(0,2,5)\n",
        "equal = np.allclose(A,B)\n",
        "print(equal)\n",
        "equal = np.array_equal(A,B)\n",
        "print(equal)"
      ]
    },
    {
      "cell_type": "markdown",
      "metadata": {
        "id": "NHn35x0fNGDd"
      },
      "source": [
        "#### 43. Make an array immutable (read-only) (★★☆) \n",
        "(**hint**: flags.writeable)"
      ]
    },
    {
      "cell_type": "code",
      "execution_count": null,
      "metadata": {
        "id": "-G_IpePCNGDe"
      },
      "outputs": [],
      "source": [
        "Z = np.zeros(10)\n",
        "Z.flags.writeable = False\n",
        "Z[0] = 1"
      ]
    },
    {
      "cell_type": "markdown",
      "metadata": {
        "id": "o7w8_nLsNGDe"
      },
      "source": [
        "#### 44. Consider a random 10x2 matrix representing cartesian coordinates, convert them to polar coordinates (★★☆) \n",
        "(**hint**: np.sqrt, np.arctan2)"
      ]
    },
    {
      "cell_type": "code",
      "execution_count": 52,
      "metadata": {
        "id": "JJ9EEhYqNGDf",
        "colab": {
          "base_uri": "https://localhost:8080/"
        },
        "outputId": "b2f828ff-057e-4514-91b7-426fb21143b9"
      },
      "outputs": [
        {
          "output_type": "stream",
          "name": "stdout",
          "text": [
            "[0.75478879 1.0721356  0.90067946 0.88309486 0.91358575 0.98625546\n",
            " 0.79097493 0.75676787 1.03742938 1.05879775]\n",
            "[0.10522493 0.95401373 1.22618041 1.44722457 0.49761688 1.26323209\n",
            " 1.02608483 0.05083006 0.62879378 0.78034322]\n"
          ]
        }
      ],
      "source": [
        "Z = np.random.random((10,2))\n",
        "X,Y = Z[:,0], Z[:,1]\n",
        "R = np.sqrt(X**2+Y**2)\n",
        "T = np.arctan2(Y,X)\n",
        "print(R)\n",
        "print(T)"
      ]
    },
    {
      "cell_type": "markdown",
      "metadata": {
        "id": "OkfO7hGZNGDg"
      },
      "source": [
        "#### 45. Create random vector of size 10 and replace the maximum value by 0 (★★☆) \n",
        "(**hint**: argmax)"
      ]
    },
    {
      "cell_type": "code",
      "execution_count": 53,
      "metadata": {
        "id": "TdjQda0wNGDh",
        "colab": {
          "base_uri": "https://localhost:8080/"
        },
        "outputId": "75854730-c38a-46a7-8d53-1fae4933b3c5"
      },
      "outputs": [
        {
          "output_type": "stream",
          "name": "stdout",
          "text": [
            "[0.59974764 0.         0.32259642 0.38195054 0.68478613 0.0272337\n",
            " 0.75599474 0.09902795 0.76030896 0.23040154]\n"
          ]
        }
      ],
      "source": [
        "Z = np.random.random(10)\n",
        "Z[Z.argmax()] = 0\n",
        "print(Z)"
      ]
    },
    {
      "cell_type": "markdown",
      "metadata": {
        "id": "f3Bb8DUuNGDh"
      },
      "source": [
        "#### 46. Create a structured array with `x` and `y` coordinates covering the \\[0,1\\]x\\[0,1\\] area (★★☆) \n",
        "(**hint**: np.meshgrid)"
      ]
    },
    {
      "cell_type": "code",
      "execution_count": 54,
      "metadata": {
        "id": "4Qs8eV28NGDi",
        "colab": {
          "base_uri": "https://localhost:8080/"
        },
        "outputId": "b3dd3e96-4416-4215-ab43-9bb8f0697797"
      },
      "outputs": [
        {
          "output_type": "stream",
          "name": "stdout",
          "text": [
            "[[(0.  , 0.  ) (0.25, 0.  ) (0.5 , 0.  ) (0.75, 0.  ) (1.  , 0.  )]\n",
            " [(0.  , 0.25) (0.25, 0.25) (0.5 , 0.25) (0.75, 0.25) (1.  , 0.25)]\n",
            " [(0.  , 0.5 ) (0.25, 0.5 ) (0.5 , 0.5 ) (0.75, 0.5 ) (1.  , 0.5 )]\n",
            " [(0.  , 0.75) (0.25, 0.75) (0.5 , 0.75) (0.75, 0.75) (1.  , 0.75)]\n",
            " [(0.  , 1.  ) (0.25, 1.  ) (0.5 , 1.  ) (0.75, 1.  ) (1.  , 1.  )]]\n"
          ]
        }
      ],
      "source": [
        "Z = np.zeros((5,5), [('x',float),('y',float)])\n",
        "Z['x'], Z['y'] = np.meshgrid(np.linspace(0,1,5),\n",
        "                             np.linspace(0,1,5))\n",
        "print(Z)"
      ]
    },
    {
      "cell_type": "markdown",
      "metadata": {
        "id": "pcUJvTi-NGDj"
      },
      "source": [
        "####  47. Given two arrays, X and Y, construct the Cauchy matrix C (Cij =1/(xi - yj)) \n",
        "(**hint**: np.subtract.outer)"
      ]
    },
    {
      "cell_type": "code",
      "execution_count": 55,
      "metadata": {
        "id": "bQz9QzMlNGDk",
        "colab": {
          "base_uri": "https://localhost:8080/"
        },
        "outputId": "cafd91ce-3408-4cbb-e74c-7fd12843a3ea"
      },
      "outputs": [
        {
          "output_type": "stream",
          "name": "stdout",
          "text": [
            "3638.1636371179666\n"
          ]
        }
      ],
      "source": [
        "X = np.arange(8)\n",
        "Y = X + 0.5\n",
        "C = 1.0 / np.subtract.outer(X, Y)\n",
        "print(np.linalg.det(C))"
      ]
    },
    {
      "cell_type": "markdown",
      "metadata": {
        "id": "0Xdac76PNGDk"
      },
      "source": [
        "#### 48. Print the minimum and maximum representable value for each numpy scalar type (★★☆) \n",
        "(**hint**: np.iinfo, np.finfo, eps)"
      ]
    },
    {
      "cell_type": "code",
      "execution_count": 56,
      "metadata": {
        "id": "fIbYW7R7NGDl",
        "colab": {
          "base_uri": "https://localhost:8080/"
        },
        "outputId": "6af507c2-3048-4a62-eaf5-bd5b94da9046"
      },
      "outputs": [
        {
          "output_type": "stream",
          "name": "stdout",
          "text": [
            "-128\n",
            "127\n",
            "-2147483648\n",
            "2147483647\n",
            "-9223372036854775808\n",
            "9223372036854775807\n",
            "-3.4028235e+38\n",
            "3.4028235e+38\n",
            "1.1920929e-07\n",
            "-1.7976931348623157e+308\n",
            "1.7976931348623157e+308\n",
            "2.220446049250313e-16\n"
          ]
        }
      ],
      "source": [
        "for dtype in [np.int8, np.int32, np.int64]:\n",
        "   print(np.iinfo(dtype).min)\n",
        "   print(np.iinfo(dtype).max)\n",
        "for dtype in [np.float32, np.float64]:\n",
        "   print(np.finfo(dtype).min)\n",
        "   print(np.finfo(dtype).max)\n",
        "   print(np.finfo(dtype).eps)"
      ]
    },
    {
      "cell_type": "markdown",
      "metadata": {
        "id": "2NPco8YwNGDm"
      },
      "source": [
        "#### 49. How to print all the values of an array? (★★☆) \n",
        "(**hint**: np.set\\_printoptions)"
      ]
    },
    {
      "cell_type": "code",
      "source": [
        "np.set_printoptions(threshold=np.nan)\n",
        "Z = np.zeros((16,16))\n",
        "print(Z)"
      ],
      "metadata": {
        "id": "zcNY14SDnXwy"
      },
      "execution_count": null,
      "outputs": []
    },
    {
      "cell_type": "markdown",
      "metadata": {
        "id": "fJNNUJDfNGDn"
      },
      "source": [
        "#### 50. How to find the closest value (to a given scalar) in a vector? (★★☆) \n",
        "(**hint**: argmin)"
      ]
    },
    {
      "cell_type": "code",
      "execution_count": 58,
      "metadata": {
        "id": "AUjtUb9tNGDo",
        "colab": {
          "base_uri": "https://localhost:8080/"
        },
        "outputId": "a5b690e2-7b9a-4019-f328-656734cfa629"
      },
      "outputs": [
        {
          "output_type": "stream",
          "name": "stdout",
          "text": [
            "21\n"
          ]
        }
      ],
      "source": [
        "Z = np.arange(100)\n",
        "v = np.random.uniform(0,100)\n",
        "index = (np.abs(Z-v)).argmin()\n",
        "print(Z[index])"
      ]
    },
    {
      "cell_type": "markdown",
      "metadata": {
        "id": "Qltqu3IxNGDo"
      },
      "source": [
        "#### 51. Create a structured array representing a position (x,y) and a color (r,g,b) (★★☆) \n",
        "(**hint**: dtype)"
      ]
    },
    {
      "cell_type": "code",
      "execution_count": 59,
      "metadata": {
        "id": "J58EgDY7NGDq",
        "colab": {
          "base_uri": "https://localhost:8080/"
        },
        "outputId": "90d15472-6cea-437d-b2f3-98981e774304"
      },
      "outputs": [
        {
          "output_type": "stream",
          "name": "stdout",
          "text": [
            "[((0., 0.), (0., 0., 0.)) ((0., 0.), (0., 0., 0.))\n",
            " ((0., 0.), (0., 0., 0.)) ((0., 0.), (0., 0., 0.))\n",
            " ((0., 0.), (0., 0., 0.)) ((0., 0.), (0., 0., 0.))\n",
            " ((0., 0.), (0., 0., 0.)) ((0., 0.), (0., 0., 0.))\n",
            " ((0., 0.), (0., 0., 0.)) ((0., 0.), (0., 0., 0.))]\n"
          ]
        },
        {
          "output_type": "stream",
          "name": "stderr",
          "text": [
            "/usr/local/lib/python3.7/dist-packages/ipykernel_launcher.py:5: FutureWarning: Passing (type, 1) or '1type' as a synonym of type is deprecated; in a future version of numpy, it will be understood as (type, (1,)) / '(1,)type'.\n",
            "  \"\"\"\n"
          ]
        }
      ],
      "source": [
        "Z = np.zeros(10, [ ('position', [ ('x', float, 1),\n",
        "                                  ('y', float, 1)]),\n",
        "                   ('color',    [ ('r', float, 1),\n",
        "                                  ('g', float, 1),\n",
        "                                  ('b', float, 1)])])\n",
        "print(Z)"
      ]
    },
    {
      "cell_type": "markdown",
      "metadata": {
        "id": "2BgKs2IMNGDq"
      },
      "source": [
        "#### 52. Consider a random vector with shape (100,2) representing coordinates, find point by point distances (★★☆) \n",
        "(**hint**: np.atleast\\_2d, T, np.sqrt)"
      ]
    },
    {
      "cell_type": "code",
      "execution_count": 60,
      "metadata": {
        "id": "JbZGfLy5NGDr",
        "colab": {
          "base_uri": "https://localhost:8080/"
        },
        "outputId": "b40bc6c5-d63a-4f9f-8379-7793364d40cd"
      },
      "outputs": [
        {
          "output_type": "stream",
          "name": "stdout",
          "text": [
            "[[0.         0.45362797 0.38618853 0.34416988 0.26959362 0.30689717\n",
            "  0.39553735 0.66331117 0.43167724 0.19719814]\n",
            " [0.45362797 0.         0.45174085 0.2438956  0.30487216 0.26711398\n",
            "  0.71511229 0.37191606 0.08489996 0.26249643]\n",
            " [0.38618853 0.45174085 0.         0.54568194 0.17703436 0.53071447\n",
            "  0.78169948 0.3931224  0.37265078 0.31293855]\n",
            " [0.34416988 0.2438956  0.54568194 0.         0.36867558 0.04048855\n",
            "  0.48944462 0.60178954 0.29370536 0.24024636]\n",
            " [0.26959362 0.30487216 0.17703436 0.36867558 0.         0.35408598\n",
            "  0.65021564 0.39828074 0.23985438 0.1392842 ]\n",
            " [0.30689717 0.26711398 0.53071447 0.04048855 0.35408598 0.\n",
            "  0.4554611  0.61418941 0.30761348 0.21987344]\n",
            " [0.39553735 0.71511229 0.78169948 0.48944462 0.65021564 0.4554611\n",
            "  0.         1.01828387 0.73458339 0.53435601]\n",
            " [0.66331117 0.37191606 0.3931224  0.60178954 0.39828074 0.61418941\n",
            "  1.01828387 0.         0.30809917 0.48568884]\n",
            " [0.43167724 0.08489996 0.37265078 0.29370536 0.23985438 0.30761348\n",
            "  0.73458339 0.30809917 0.         0.23448004]\n",
            " [0.19719814 0.26249643 0.31293855 0.24024636 0.1392842  0.21987344\n",
            "  0.53435601 0.48568884 0.23448004 0.        ]]\n",
            "[[0.         0.74424412 0.58283494 0.22155141 0.7771478  0.57271789\n",
            "  0.52227055 0.43326084 1.01189014 0.33631463]\n",
            " [0.74424412 0.         0.47278894 0.54963834 0.04297478 0.54351794\n",
            "  0.92591417 0.87880627 0.58900528 0.72907616]\n",
            " [0.58283494 0.47278894 0.         0.37368745 0.47277399 0.78783963\n",
            "  1.00865766 0.9308032  1.02512174 0.78140277]\n",
            " [0.22155141 0.54963834 0.37368745 0.         0.57787901 0.54146617\n",
            "  0.65179177 0.56888529 0.91894904 0.42910124]\n",
            " [0.7771478  0.04297478 0.47277399 0.57787901 0.         0.58602435\n",
            "  0.96860161 0.92094589 0.61348067 0.77071726]\n",
            " [0.57271789 0.54351794 0.78783963 0.54146617 0.58602435 0.\n",
            "  0.42800349 0.41498896 0.46420853 0.31663807]\n",
            " [0.52227055 0.92591417 1.00865766 0.65179177 0.96860161 0.42800349\n",
            "  0.         0.08909435 0.84974878 0.22736544]\n",
            " [0.43326084 0.87880627 0.9308032  0.56888529 0.92094589 0.41498896\n",
            "  0.08909435 0.         0.86079891 0.15601183]\n",
            " [1.01189014 0.58900528 1.02512174 0.91894904 0.61348067 0.46420853\n",
            "  0.84974878 0.86079891 0.         0.78031917]\n",
            " [0.33631463 0.72907616 0.78140277 0.42910124 0.77071726 0.31663807\n",
            "  0.22736544 0.15601183 0.78031917 0.        ]]\n"
          ]
        }
      ],
      "source": [
        "Z = np.random.random((10,2))\n",
        "X,Y = np.atleast_2d(Z[:,0], Z[:,1])\n",
        "D = np.sqrt( (X-X.T)**2 + (Y-Y.T)**2)\n",
        "print(D)\n",
        "\n",
        "\n",
        "import scipy\n",
        "\n",
        "import scipy.spatial\n",
        "\n",
        "Z = np.random.random((10,2))\n",
        "D = scipy.spatial.distance.cdist(Z,Z)\n",
        "print(D)"
      ]
    },
    {
      "cell_type": "markdown",
      "metadata": {
        "id": "WKzKW7coNGDs"
      },
      "source": [
        "#### 53. How to convert a float (32 bits) array into an integer (32 bits) in place? \n",
        "(**hint**: astype(copy=False))"
      ]
    },
    {
      "cell_type": "code",
      "execution_count": 61,
      "metadata": {
        "id": "391CM8Z0NGDu",
        "colab": {
          "base_uri": "https://localhost:8080/"
        },
        "outputId": "ba056c0b-58de-4515-f40d-ba0f9799708d"
      },
      "outputs": [
        {
          "output_type": "stream",
          "name": "stdout",
          "text": [
            "[0 1 2 3 4 5 6 7 8 9]\n"
          ]
        }
      ],
      "source": [
        "Z = np.arange(10, dtype=np.float32)\n",
        "Z = Z.astype(np.int32, copy=False)\n",
        "print(Z)"
      ]
    },
    {
      "cell_type": "markdown",
      "metadata": {
        "id": "3D_jQnOPNGDv"
      },
      "source": [
        "#### 54. How to read the following file? (★★☆) \n",
        "(**hint**: np.genfromtxt)"
      ]
    },
    {
      "cell_type": "markdown",
      "metadata": {
        "id": "AANI5Nc8NGDw"
      },
      "source": [
        "```\n",
        "1, 2, 3, 4, 5\n",
        "6,  ,  , 7, 8\n",
        " ,  , 9,10,11\n",
        "```"
      ]
    },
    {
      "cell_type": "code",
      "execution_count": 62,
      "metadata": {
        "id": "4wQeIZ8nNGDx",
        "colab": {
          "base_uri": "https://localhost:8080/"
        },
        "outputId": "783884e7-76f7-4f7e-cf08-af397627c8e7"
      },
      "outputs": [
        {
          "output_type": "stream",
          "name": "stdout",
          "text": [
            "[[ 1  2  3  4  5]\n",
            " [ 6 -1 -1  7  8]\n",
            " [-1 -1  9 10 11]]\n"
          ]
        }
      ],
      "source": [
        "from io import StringIO\n",
        "\n",
        "s = StringIO(\"\"\"1, 2, 3, 4, 5\\n\n",
        "                6,  ,  , 7, 8\\n\n",
        "                 ,  , 9,10,11\\n\"\"\")\n",
        "Z = np.genfromtxt(s, delimiter=\",\", dtype=np.int)\n",
        "print(Z)"
      ]
    },
    {
      "cell_type": "markdown",
      "metadata": {
        "id": "ma1k2We3NGDy"
      },
      "source": [
        "#### 55. What is the equivalent of enumerate for numpy arrays? (★★☆) \n",
        "(**hint**: np.ndenumerate, np.ndindex)"
      ]
    },
    {
      "cell_type": "code",
      "execution_count": 63,
      "metadata": {
        "id": "VgKNIs5hNGDy",
        "colab": {
          "base_uri": "https://localhost:8080/"
        },
        "outputId": "10c55416-2e37-4515-d9e0-54606d1cdb01"
      },
      "outputs": [
        {
          "output_type": "stream",
          "name": "stdout",
          "text": [
            "(0, 0) 0\n",
            "(0, 1) 1\n",
            "(0, 2) 2\n",
            "(1, 0) 3\n",
            "(1, 1) 4\n",
            "(1, 2) 5\n",
            "(2, 0) 6\n",
            "(2, 1) 7\n",
            "(2, 2) 8\n",
            "(0, 0) 0\n",
            "(0, 1) 1\n",
            "(0, 2) 2\n",
            "(1, 0) 3\n",
            "(1, 1) 4\n",
            "(1, 2) 5\n",
            "(2, 0) 6\n",
            "(2, 1) 7\n",
            "(2, 2) 8\n"
          ]
        }
      ],
      "source": [
        "Z = np.arange(9).reshape(3,3)\n",
        "for index, value in np.ndenumerate(Z):\n",
        "    print(index, value)\n",
        "for index in np.ndindex(Z.shape):\n",
        "    print(index, Z[index])"
      ]
    },
    {
      "cell_type": "markdown",
      "metadata": {
        "id": "tMmtDx8QNGDz"
      },
      "source": [
        "#### 56. Generate a generic 2D Gaussian-like array (★★☆) \n",
        "(**hint**: np.meshgrid, np.exp)"
      ]
    },
    {
      "cell_type": "code",
      "execution_count": 64,
      "metadata": {
        "id": "XIdcyQNTNGD0",
        "colab": {
          "base_uri": "https://localhost:8080/"
        },
        "outputId": "77fa5743-7361-4d2e-974a-d3513916ca83"
      },
      "outputs": [
        {
          "output_type": "stream",
          "name": "stdout",
          "text": [
            "[[0.36787944 0.44822088 0.51979489 0.57375342 0.60279818 0.60279818\n",
            "  0.57375342 0.51979489 0.44822088 0.36787944]\n",
            " [0.44822088 0.54610814 0.63331324 0.69905581 0.73444367 0.73444367\n",
            "  0.69905581 0.63331324 0.54610814 0.44822088]\n",
            " [0.51979489 0.63331324 0.73444367 0.81068432 0.85172308 0.85172308\n",
            "  0.81068432 0.73444367 0.63331324 0.51979489]\n",
            " [0.57375342 0.69905581 0.81068432 0.89483932 0.9401382  0.9401382\n",
            "  0.89483932 0.81068432 0.69905581 0.57375342]\n",
            " [0.60279818 0.73444367 0.85172308 0.9401382  0.98773022 0.98773022\n",
            "  0.9401382  0.85172308 0.73444367 0.60279818]\n",
            " [0.60279818 0.73444367 0.85172308 0.9401382  0.98773022 0.98773022\n",
            "  0.9401382  0.85172308 0.73444367 0.60279818]\n",
            " [0.57375342 0.69905581 0.81068432 0.89483932 0.9401382  0.9401382\n",
            "  0.89483932 0.81068432 0.69905581 0.57375342]\n",
            " [0.51979489 0.63331324 0.73444367 0.81068432 0.85172308 0.85172308\n",
            "  0.81068432 0.73444367 0.63331324 0.51979489]\n",
            " [0.44822088 0.54610814 0.63331324 0.69905581 0.73444367 0.73444367\n",
            "  0.69905581 0.63331324 0.54610814 0.44822088]\n",
            " [0.36787944 0.44822088 0.51979489 0.57375342 0.60279818 0.60279818\n",
            "  0.57375342 0.51979489 0.44822088 0.36787944]]\n"
          ]
        }
      ],
      "source": [
        "X, Y = np.meshgrid(np.linspace(-1,1,10), np.linspace(-1,1,10))\n",
        "D = np.sqrt(X*X+Y*Y)\n",
        "sigma, mu = 1.0, 0.0\n",
        "G = np.exp(-( (D-mu)**2 / ( 2.0 * sigma**2 ) ) )\n",
        "print(G)"
      ]
    },
    {
      "cell_type": "markdown",
      "metadata": {
        "id": "4fZosXkrNGD0"
      },
      "source": [
        "#### 57. How to randomly place p elements in a 2D array? (★★☆) \n",
        "(**hint**: np.put, np.random.choice)"
      ]
    },
    {
      "cell_type": "code",
      "execution_count": 65,
      "metadata": {
        "id": "pvRqMMmcNGD1",
        "colab": {
          "base_uri": "https://localhost:8080/"
        },
        "outputId": "c089a260-1848-4a8f-e182-0037e9c57e52"
      },
      "outputs": [
        {
          "output_type": "stream",
          "name": "stdout",
          "text": [
            "[[0. 0. 0. 0. 0. 0. 1. 0. 0. 0.]\n",
            " [1. 0. 0. 0. 0. 0. 0. 0. 0. 0.]\n",
            " [0. 0. 0. 0. 0. 0. 0. 0. 0. 0.]\n",
            " [0. 0. 0. 0. 0. 0. 0. 0. 0. 0.]\n",
            " [0. 0. 0. 0. 0. 0. 0. 0. 0. 0.]\n",
            " [0. 0. 0. 0. 0. 0. 0. 0. 0. 0.]\n",
            " [0. 0. 0. 0. 0. 0. 0. 0. 0. 0.]\n",
            " [0. 0. 1. 0. 0. 0. 0. 0. 0. 0.]\n",
            " [0. 0. 0. 0. 0. 0. 0. 0. 0. 0.]\n",
            " [0. 0. 0. 0. 0. 0. 0. 0. 0. 0.]]\n"
          ]
        }
      ],
      "source": [
        "n = 10\n",
        "p = 3\n",
        "Z = np.zeros((n,n))\n",
        "np.put(Z, np.random.choice(range(n*n), p, replace=False),1)\n",
        "print(Z)"
      ]
    },
    {
      "cell_type": "markdown",
      "metadata": {
        "id": "_jDGcAQNNGD2"
      },
      "source": [
        "#### 58. Subtract the mean of each row of a matrix (★★☆) \n",
        "(**hint**: mean(axis=,keepdims=))"
      ]
    },
    {
      "cell_type": "code",
      "execution_count": 66,
      "metadata": {
        "id": "rDeO6f6aNGD3",
        "colab": {
          "base_uri": "https://localhost:8080/"
        },
        "outputId": "326fd270-a0e9-44ab-dd45-88cf85d917b9"
      },
      "outputs": [
        {
          "output_type": "stream",
          "name": "stdout",
          "text": [
            "[[-0.17330814 -0.04865947  0.16654615 -0.27024377 -0.13991728 -0.28400514\n",
            "  -0.00124799  0.09498409  0.37329471  0.28255683]\n",
            " [-0.17342216 -0.02626065  0.21353063  0.06578407  0.07448147 -0.42589373\n",
            "   0.38192131 -0.24258556  0.19830323 -0.06585862]\n",
            " [ 0.08641515  0.22094232  0.30332868 -0.16912126 -0.48093306  0.09519327\n",
            "  -0.02291946 -0.30321053  0.19505908  0.07524582]\n",
            " [ 0.46719204 -0.31500644 -0.28434842 -0.03292391  0.44381095 -0.03067422\n",
            "  -0.36733558  0.01934507  0.19616891 -0.09622839]\n",
            " [ 0.04407486  0.2306276   0.0705547   0.07506662 -0.49424418  0.13177913\n",
            "  -0.41996836  0.27209142 -0.20548598  0.29550418]]\n"
          ]
        }
      ],
      "source": [
        "X = np.random.rand(5, 10)\n",
        "\n",
        "\n",
        "Y = X - X.mean(axis=1, keepdims=True)\n",
        "\n",
        "\n",
        "Y = X - X.mean(axis=1).reshape(-1, 1)\n",
        "\n",
        "print(Y)"
      ]
    },
    {
      "cell_type": "markdown",
      "metadata": {
        "id": "ga_pCbNnNGD4"
      },
      "source": [
        "#### 59. How to sort an array by the nth column? (★★☆) \n",
        "(**hint**: argsort)"
      ]
    },
    {
      "cell_type": "code",
      "execution_count": null,
      "metadata": {
        "id": "_-osyWriNGD5"
      },
      "outputs": [],
      "source": [
        "Z = np.random.randint(0,10,(3,3))\n",
        "print(Z)\n",
        "print(Z[Z[:,1].argsort()])"
      ]
    },
    {
      "cell_type": "markdown",
      "metadata": {
        "id": "fcVI9PcFNGD5"
      },
      "source": [
        "#### 60. How to tell if a given 2D array has null columns? (★★☆) \n",
        "(**hint**: any, ~)"
      ]
    },
    {
      "cell_type": "code",
      "execution_count": 67,
      "metadata": {
        "id": "Gsass-ilNGD6",
        "colab": {
          "base_uri": "https://localhost:8080/"
        },
        "outputId": "608c8c1c-9cf9-4ad9-d9de-2992e278f01c"
      },
      "outputs": [
        {
          "output_type": "stream",
          "name": "stdout",
          "text": [
            "True\n"
          ]
        }
      ],
      "source": [
        "Z = np.random.randint(0,3,(3,10))\n",
        "print((~Z.any(axis=0)).any())"
      ]
    },
    {
      "cell_type": "markdown",
      "metadata": {
        "id": "tcPp1yQ1NGD7"
      },
      "source": [
        "#### 61. Find the nearest value from a given value in an array (★★☆) \n",
        "(**hint**: np.abs, argmin, flat)"
      ]
    },
    {
      "cell_type": "code",
      "execution_count": 68,
      "metadata": {
        "id": "VfNNY_8nNGD8",
        "colab": {
          "base_uri": "https://localhost:8080/"
        },
        "outputId": "269b0804-2018-422f-f371-9e90a477658c"
      },
      "outputs": [
        {
          "output_type": "stream",
          "name": "stdout",
          "text": [
            "0.5014416114269786\n"
          ]
        }
      ],
      "source": [
        "Z = np.random.uniform(0,1,10)\n",
        "z = 0.5\n",
        "m = Z.flat[np.abs(Z - z).argmin()]\n",
        "print(m)"
      ]
    },
    {
      "cell_type": "markdown",
      "metadata": {
        "id": "j-Cvub89NGD9"
      },
      "source": [
        "#### 62. Considering two arrays with shape (1,3) and (3,1), how to compute their sum using an iterator? (★★☆) \n",
        "(**hint**: np.nditer)"
      ]
    },
    {
      "cell_type": "code",
      "execution_count": 69,
      "metadata": {
        "id": "IFc18jKWNGD-",
        "colab": {
          "base_uri": "https://localhost:8080/"
        },
        "outputId": "7877abce-c00f-4b63-8900-929fdc718190"
      },
      "outputs": [
        {
          "output_type": "stream",
          "name": "stdout",
          "text": [
            "[[0 1 2]\n",
            " [1 2 3]\n",
            " [2 3 4]]\n"
          ]
        }
      ],
      "source": [
        "A = np.arange(3).reshape(3,1)\n",
        "B = np.arange(3).reshape(1,3)\n",
        "it = np.nditer([A,B,None])\n",
        "for x,y,z in it: z[...] = x + y\n",
        "print(it.operands[2])"
      ]
    },
    {
      "cell_type": "markdown",
      "metadata": {
        "id": "DdtXDxDiNGD_"
      },
      "source": [
        "#### 63. Create an array class that has a name attribute (★★☆) \n",
        "(**hint**: class method)"
      ]
    },
    {
      "cell_type": "code",
      "execution_count": 70,
      "metadata": {
        "id": "62ss1iv4NGD_",
        "colab": {
          "base_uri": "https://localhost:8080/"
        },
        "outputId": "73f4250c-d5bd-43c0-947b-f5690311ffc4"
      },
      "outputs": [
        {
          "output_type": "stream",
          "name": "stdout",
          "text": [
            "range_10\n"
          ]
        }
      ],
      "source": [
        "class NamedArray(np.ndarray):\n",
        "    def __new__(cls, array, name=\"no name\"):\n",
        "        obj = np.asarray(array).view(cls)\n",
        "        obj.name = name\n",
        "        return obj\n",
        "    def __array_finalize__(self, obj):\n",
        "        if obj is None: return\n",
        "        self.info = getattr(obj, 'name', \"no name\")\n",
        "\n",
        "Z = NamedArray(np.arange(10), \"range_10\")\n",
        "print (Z.name)"
      ]
    },
    {
      "cell_type": "markdown",
      "metadata": {
        "id": "1TYg7rkTNGEA"
      },
      "source": [
        "#### 64. Consider a given vector, how to add 1 to each element indexed by a second vector (be careful with repeated indices)? (★★★) \n",
        "(**hint**: np.bincount | np.add.at)"
      ]
    },
    {
      "cell_type": "code",
      "execution_count": 71,
      "metadata": {
        "id": "x1a80ulCNGEB",
        "colab": {
          "base_uri": "https://localhost:8080/"
        },
        "outputId": "3becbf5c-26b4-48c6-f1f3-497ae725296d"
      },
      "outputs": [
        {
          "output_type": "stream",
          "name": "stdout",
          "text": [
            "[2. 3. 3. 2. 1. 4. 3. 5. 4. 3.]\n",
            "[3. 5. 5. 3. 1. 7. 5. 9. 7. 5.]\n"
          ]
        }
      ],
      "source": [
        "Z = np.ones(10)\n",
        "I = np.random.randint(0,len(Z),20)\n",
        "Z += np.bincount(I, minlength=len(Z))\n",
        "print(Z)\n",
        "np.add.at(Z, I, 1)\n",
        "print(Z)"
      ]
    },
    {
      "cell_type": "markdown",
      "metadata": {
        "id": "q_sCD38_NGEC"
      },
      "source": [
        "#### 65. How to accumulate elements of a vector (X) to an array (F) based on an index list (I)? (★★★) \n",
        "(**hint**: np.bincount)"
      ]
    },
    {
      "cell_type": "code",
      "execution_count": 72,
      "metadata": {
        "id": "Z0hBN-UdNGEE",
        "colab": {
          "base_uri": "https://localhost:8080/"
        },
        "outputId": "4d940ed5-3378-4fff-c537-b687484f0446"
      },
      "outputs": [
        {
          "output_type": "stream",
          "name": "stdout",
          "text": [
            "[0. 7. 0. 6. 5. 0. 0. 0. 0. 3.]\n"
          ]
        }
      ],
      "source": [
        "X = [1,2,3,4,5,6]\n",
        "I = [1,3,9,3,4,1]\n",
        "F = np.bincount(I,X)\n",
        "print(F)"
      ]
    },
    {
      "cell_type": "markdown",
      "metadata": {
        "id": "oeF66lkTNGEF"
      },
      "source": [
        "#### 66. Considering a (w,h,3) image of (dtype=ubyte), compute the number of unique colors (★★★) \n",
        "(**hint**: np.unique)"
      ]
    },
    {
      "cell_type": "code",
      "execution_count": 73,
      "metadata": {
        "id": "wmp55UCvNGEG",
        "colab": {
          "base_uri": "https://localhost:8080/"
        },
        "outputId": "552e02f2-1b63-46d6-c530-b2265b8ec93e"
      },
      "outputs": [
        {
          "output_type": "stream",
          "name": "stdout",
          "text": [
            "8\n"
          ]
        }
      ],
      "source": [
        "w,h = 16,16\n",
        "I = np.random.randint(0,2,(h,w,3)).astype(np.ubyte)\n",
        "F = I[...,0]*(256*256) + I[...,1]*256 +I[...,2]\n",
        "n = len(np.unique(F))\n",
        "print(n)"
      ]
    },
    {
      "cell_type": "markdown",
      "metadata": {
        "id": "2zY2dgXVNGEH"
      },
      "source": [
        "#### 67. Considering a four dimensions array, how to get sum over the last two axis at once? (★★★) \n",
        "(**hint**: sum(axis=(-2,-1)))"
      ]
    },
    {
      "cell_type": "code",
      "execution_count": 74,
      "metadata": {
        "id": "H2DypCtWNGEI",
        "colab": {
          "base_uri": "https://localhost:8080/"
        },
        "outputId": "9beb0349-e98d-4ac0-8946-de31ddd9f389"
      },
      "outputs": [
        {
          "output_type": "stream",
          "name": "stdout",
          "text": [
            "[[48 50 60 57]\n",
            " [54 38 57 47]\n",
            " [58 45 57 55]]\n",
            "[[48 50 60 57]\n",
            " [54 38 57 47]\n",
            " [58 45 57 55]]\n"
          ]
        }
      ],
      "source": [
        "A = np.random.randint(0,10,(3,4,3,4))\n",
        "\n",
        "sum = A.sum(axis=(-2,-1))\n",
        "print(sum)\n",
        "sum = A.reshape(A.shape[:-2] + (-1,)).sum(axis=-1)\n",
        "print(sum)"
      ]
    },
    {
      "cell_type": "markdown",
      "metadata": {
        "id": "zl7t11BCNGEI"
      },
      "source": [
        "#### 68. Considering a one-dimensional vector D, how to compute means of subsets of D using a vector S of same size describing subset  indices? (★★★) \n",
        "(**hint**: np.bincount)"
      ]
    },
    {
      "cell_type": "code",
      "execution_count": 75,
      "metadata": {
        "id": "dSGZjdZANGEJ",
        "colab": {
          "base_uri": "https://localhost:8080/"
        },
        "outputId": "dcef1d99-871f-426f-ab5a-0135760aac37"
      },
      "outputs": [
        {
          "output_type": "stream",
          "name": "stdout",
          "text": [
            "[0.58676571 0.6474923  0.52536483 0.49907964 0.5387141  0.58323081\n",
            " 0.43359658 0.44902465 0.63224236 0.52831654]\n",
            "0    0.586766\n",
            "1    0.647492\n",
            "2    0.525365\n",
            "3    0.499080\n",
            "4    0.538714\n",
            "5    0.583231\n",
            "6    0.433597\n",
            "7    0.449025\n",
            "8    0.632242\n",
            "9    0.528317\n",
            "dtype: float64\n"
          ]
        }
      ],
      "source": [
        "D = np.random.uniform(0,1,100)\n",
        "S = np.random.randint(0,10,100)\n",
        "D_sums = np.bincount(S, weights=D)\n",
        "D_counts = np.bincount(S)\n",
        "D_means = D_sums / D_counts\n",
        "print(D_means)\n",
        "import pandas as pd\n",
        "print(pd.Series(D).groupby(S).mean())"
      ]
    },
    {
      "cell_type": "markdown",
      "metadata": {
        "id": "PKZOLpXhNGEK"
      },
      "source": [
        "#### 69. How to get the diagonal of a dot product? (★★★) \n",
        "(**hint**: np.diag)"
      ]
    },
    {
      "cell_type": "code",
      "execution_count": 76,
      "metadata": {
        "id": "9bROyfeGNGEL",
        "colab": {
          "base_uri": "https://localhost:8080/"
        },
        "outputId": "23cf505c-dd0e-4cc5-d1a7-9d73828dd2b0"
      },
      "outputs": [
        {
          "output_type": "execute_result",
          "data": {
            "text/plain": [
              "array([1.58503651, 1.22236565, 1.23707038, 1.56607724, 1.48236142])"
            ]
          },
          "metadata": {},
          "execution_count": 76
        }
      ],
      "source": [
        "A = np.random.uniform(0,1,(5,5))\n",
        "B = np.random.uniform(0,1,(5,5))\n",
        "np.diag(np.dot(A, B))"
      ]
    },
    {
      "cell_type": "markdown",
      "metadata": {
        "id": "U5UxCkk9NGEM"
      },
      "source": [
        "#### 70. Consider the vector \\[1, 2, 3, 4, 5\\], how to build a new vector with 3 consecutive zeros interleaved between each value? (★★★) \n",
        "(**hint**: array\\[::4\\])"
      ]
    },
    {
      "cell_type": "code",
      "execution_count": 77,
      "metadata": {
        "id": "AqsjMWykNGEN",
        "colab": {
          "base_uri": "https://localhost:8080/"
        },
        "outputId": "59f78326-1724-4c49-87a9-e45f1bc028f2"
      },
      "outputs": [
        {
          "output_type": "stream",
          "name": "stdout",
          "text": [
            "[1. 0. 0. 0. 2. 0. 0. 0. 3. 0. 0. 0. 4. 0. 0. 0. 5.]\n"
          ]
        }
      ],
      "source": [
        "Z = np.array([1,2,3,4,5])\n",
        "nz = 3\n",
        "Z0 = np.zeros(len(Z) + (len(Z)-1)*(nz))\n",
        "Z0[::nz+1] = Z\n",
        "print(Z0)"
      ]
    },
    {
      "cell_type": "markdown",
      "metadata": {
        "id": "2x3h-hOiNGEO"
      },
      "source": [
        "#### 71. Consider an array of dimension (5,5,3), how to mulitply it by an array with dimensions (5,5)? (★★★) \n",
        "(**hint**: array\\[:, :, None\\])"
      ]
    },
    {
      "cell_type": "code",
      "execution_count": 78,
      "metadata": {
        "collapsed": true,
        "id": "JGCM_Z8GNGEP",
        "colab": {
          "base_uri": "https://localhost:8080/"
        },
        "outputId": "461375c5-7ef1-447e-e442-4f65374b88be"
      },
      "outputs": [
        {
          "output_type": "stream",
          "name": "stdout",
          "text": [
            "[[[2. 2. 2.]\n",
            "  [2. 2. 2.]\n",
            "  [2. 2. 2.]\n",
            "  [2. 2. 2.]\n",
            "  [2. 2. 2.]]\n",
            "\n",
            " [[2. 2. 2.]\n",
            "  [2. 2. 2.]\n",
            "  [2. 2. 2.]\n",
            "  [2. 2. 2.]\n",
            "  [2. 2. 2.]]\n",
            "\n",
            " [[2. 2. 2.]\n",
            "  [2. 2. 2.]\n",
            "  [2. 2. 2.]\n",
            "  [2. 2. 2.]\n",
            "  [2. 2. 2.]]\n",
            "\n",
            " [[2. 2. 2.]\n",
            "  [2. 2. 2.]\n",
            "  [2. 2. 2.]\n",
            "  [2. 2. 2.]\n",
            "  [2. 2. 2.]]\n",
            "\n",
            " [[2. 2. 2.]\n",
            "  [2. 2. 2.]\n",
            "  [2. 2. 2.]\n",
            "  [2. 2. 2.]\n",
            "  [2. 2. 2.]]]\n"
          ]
        }
      ],
      "source": [
        "A = np.ones((5,5,3))\n",
        "B = 2*np.ones((5,5))\n",
        "print(A * B[:,:,None])"
      ]
    },
    {
      "cell_type": "markdown",
      "metadata": {
        "id": "a5P45Wt3NGEP"
      },
      "source": [
        "#### 72. How to swap two rows of an array? (★★★) \n",
        "(**hint**: array\\[\\[\\]\\] = array\\[\\[\\]\\])"
      ]
    },
    {
      "cell_type": "code",
      "execution_count": 79,
      "metadata": {
        "id": "jSO8-WUnNGEQ",
        "colab": {
          "base_uri": "https://localhost:8080/"
        },
        "outputId": "d2f8c76a-d4fa-4162-8d12-a5a4a8519452"
      },
      "outputs": [
        {
          "output_type": "stream",
          "name": "stdout",
          "text": [
            "[[ 5  6  7  8  9]\n",
            " [ 0  1  2  3  4]\n",
            " [10 11 12 13 14]\n",
            " [15 16 17 18 19]\n",
            " [20 21 22 23 24]]\n"
          ]
        }
      ],
      "source": [
        "A = np.arange(25).reshape(5,5)\n",
        "A[[0,1]] = A[[1,0]]\n",
        "print(A)"
      ]
    },
    {
      "cell_type": "markdown",
      "metadata": {
        "id": "dNi2PYYINGER"
      },
      "source": [
        "#### 73. Consider a set of 10 triplets describing 10 triangles (with shared vertices), find the set of unique line segments composing all the  triangles (★★★) \n",
        "(**hint**: repeat, np.roll, np.sort, view, np.unique)"
      ]
    },
    {
      "cell_type": "code",
      "execution_count": 80,
      "metadata": {
        "id": "RzNxZqW6NGET",
        "colab": {
          "base_uri": "https://localhost:8080/"
        },
        "outputId": "85aa9590-52a1-4831-ee8a-e1ece1ad36ed"
      },
      "outputs": [
        {
          "output_type": "stream",
          "name": "stdout",
          "text": [
            "[( 5, 72) ( 5, 76) (11, 28) (11, 78) (12, 54) (12, 83) (13, 33) (13, 62)\n",
            " (19, 68) (19, 76) (19, 92) (21, 32) (21, 94) (24, 58) (24, 70) (28, 78)\n",
            " (29, 64) (29, 91) (32, 94) (33, 62) (34, 40) (34, 85) (40, 85) (54, 83)\n",
            " (58, 70) (64, 91) (68, 76) (72, 76) (76, 92)]\n"
          ]
        }
      ],
      "source": [
        "faces = np.random.randint(0,100,(10,3))\n",
        "F = np.roll(faces.repeat(2,axis=1),-1,axis=1)\n",
        "F = F.reshape(len(F)*3,2)\n",
        "F = np.sort(F,axis=1)\n",
        "G = F.view( dtype=[('p0',F.dtype),('p1',F.dtype)] )\n",
        "G = np.unique(G)\n",
        "print(G)"
      ]
    },
    {
      "cell_type": "markdown",
      "metadata": {
        "id": "HPHO-zSSNGEU"
      },
      "source": [
        "#### 74. Given an array C that is a bincount, how to produce an array A such that np.bincount(A) == C? (★★★) \n",
        "(**hint**: np.repeat)"
      ]
    },
    {
      "cell_type": "code",
      "execution_count": 81,
      "metadata": {
        "id": "1KzUTgcONGEV",
        "colab": {
          "base_uri": "https://localhost:8080/"
        },
        "outputId": "e0fb7b44-602c-4a57-977b-214097f6fe26"
      },
      "outputs": [
        {
          "output_type": "stream",
          "name": "stdout",
          "text": [
            "[1 1 2 3 4 4 6]\n"
          ]
        }
      ],
      "source": [
        "C = np.bincount([1,1,2,3,4,4,6])\n",
        "A = np.repeat(np.arange(len(C)), C)\n",
        "print(A)"
      ]
    },
    {
      "cell_type": "markdown",
      "metadata": {
        "id": "H2cv9iSLNGEW"
      },
      "source": [
        "#### 75. How to compute averages using a sliding window over an array? (★★★) \n",
        "(**hint**: np.cumsum)"
      ]
    },
    {
      "cell_type": "code",
      "execution_count": 82,
      "metadata": {
        "id": "MIxPDuUHNGEX",
        "colab": {
          "base_uri": "https://localhost:8080/"
        },
        "outputId": "50cbb163-8cd6-426f-d8c6-276180d35ec2"
      },
      "outputs": [
        {
          "output_type": "stream",
          "name": "stdout",
          "text": [
            "[ 1.  2.  3.  4.  5.  6.  7.  8.  9. 10. 11. 12. 13. 14. 15. 16. 17. 18.]\n"
          ]
        }
      ],
      "source": [
        "def moving_average(a, n=3) :\n",
        "    ret = np.cumsum(a, dtype=float)\n",
        "    ret[n:] = ret[n:] - ret[:-n]\n",
        "    return ret[n - 1:] / n\n",
        "Z = np.arange(20)\n",
        "print(moving_average(Z, n=3))"
      ]
    },
    {
      "cell_type": "markdown",
      "metadata": {
        "id": "oBghEJ7MNGEY"
      },
      "source": [
        "#### 76. Consider a one-dimensional array Z, build a two-dimensional array whose first row is (Z\\[0\\],Z\\[1\\],Z\\[2\\]) and each subsequent row is  shifted by 1 (last row should be (Z\\[-3\\],Z\\[-2\\],Z\\[-1\\]) (★★★) \n",
        "(**hint**: from numpy.lib import stride_tricks)"
      ]
    },
    {
      "cell_type": "code",
      "execution_count": 83,
      "metadata": {
        "id": "GfoTrq3XNGEZ",
        "colab": {
          "base_uri": "https://localhost:8080/"
        },
        "outputId": "6005b677-048f-4a7f-eca3-6fbee98a2bb4"
      },
      "outputs": [
        {
          "output_type": "stream",
          "name": "stdout",
          "text": [
            "[[0 1 2]\n",
            " [1 2 3]\n",
            " [2 3 4]\n",
            " [3 4 5]\n",
            " [4 5 6]\n",
            " [5 6 7]\n",
            " [6 7 8]\n",
            " [7 8 9]]\n"
          ]
        }
      ],
      "source": [
        "from numpy.lib import stride_tricks\n",
        "\n",
        "def rolling(a, window):\n",
        "    shape = (a.size - window + 1, window)\n",
        "    strides = (a.itemsize, a.itemsize)\n",
        "    return stride_tricks.as_strided(a, shape=shape, strides=strides)\n",
        "Z = rolling(np.arange(10), 3)\n",
        "print(Z)"
      ]
    },
    {
      "cell_type": "markdown",
      "metadata": {
        "id": "n-JkoNrYNGEZ"
      },
      "source": [
        "#### 77. How to negate a boolean, or to change the sign of a float inplace? (★★★) \n",
        "(**hint**: np.logical_not, np.negative)"
      ]
    },
    {
      "cell_type": "code",
      "execution_count": 84,
      "metadata": {
        "id": "AgKO3MymNGEa",
        "colab": {
          "base_uri": "https://localhost:8080/"
        },
        "outputId": "ddae2461-fc4c-4aa3-ceda-854273f65e97"
      },
      "outputs": [
        {
          "output_type": "execute_result",
          "data": {
            "text/plain": [
              "array([-0.60142248, -0.35657652,  0.1714782 ,  0.38637465, -0.60500723,\n",
              "       -0.76085288,  0.63445364, -0.43852542, -0.19801269,  0.10042468,\n",
              "        0.13788206, -0.2768392 , -0.96738964, -0.13832321, -0.3460112 ,\n",
              "       -0.63815158, -0.36846753,  0.5120881 , -0.05708039, -0.0670861 ,\n",
              "        0.65984976, -0.5111948 , -0.26539975, -0.83253726, -0.75475046,\n",
              "        0.50061348, -0.13863273, -0.05014954,  0.28936517,  0.37565562,\n",
              "       -0.34150618,  0.11321037, -0.51548917,  0.38757123, -0.69912962,\n",
              "       -0.21073529, -0.03861695,  0.6954508 ,  0.60641962,  0.813017  ,\n",
              "       -0.77668886, -0.90114272, -0.42119579,  0.12334702,  0.5484746 ,\n",
              "        0.21458585, -0.22871582,  0.16870768, -0.55337635,  0.91978772,\n",
              "       -0.69289312, -0.1801216 , -0.26080058,  0.24586544, -0.70420822,\n",
              "        0.8048618 ,  0.3912829 ,  0.73151377, -0.97433819, -0.06402339,\n",
              "       -0.56536745, -0.2410906 , -0.89763285,  0.46548133,  0.01413401,\n",
              "        0.52455688, -0.0105989 ,  0.9417545 , -0.32455029, -0.00606533,\n",
              "       -0.1688305 , -0.88091924,  0.14275816,  0.07764381,  0.79965612,\n",
              "       -0.84228593, -0.21852046, -0.80412615, -0.41407018, -0.43666796,\n",
              "        0.30743039,  0.73503095, -0.45279066, -0.48495313, -0.72826036,\n",
              "       -0.91586351,  0.75017929,  0.96325397,  0.7291476 , -0.20633188,\n",
              "       -0.95203121, -0.17826551,  0.51262351, -0.30385312, -0.98515603,\n",
              "       -0.45182936,  0.70561398, -0.80778838,  0.92972213,  0.70397804])"
            ]
          },
          "metadata": {},
          "execution_count": 84
        }
      ],
      "source": [
        "Z = np.random.randint(0,2,100)\n",
        "np.logical_not(Z, out=Z)\n",
        "\n",
        "Z = np.random.uniform(-1.0,1.0,100)\n",
        "np.negative(Z, out=Z)"
      ]
    },
    {
      "cell_type": "markdown",
      "metadata": {
        "id": "11dDF8E-NGEb"
      },
      "source": [
        "#### 78. Consider 2 sets of points P0,P1 describing lines (2d) and a point p, how to compute distance from p to each line i  (P0\\[i\\],P1\\[i\\])? (★★★)"
      ]
    },
    {
      "cell_type": "code",
      "execution_count": 85,
      "metadata": {
        "id": "UC1tX4clNGEd",
        "colab": {
          "base_uri": "https://localhost:8080/"
        },
        "outputId": "b307af60-8533-4d84-d7cb-aa24d964d435"
      },
      "outputs": [
        {
          "output_type": "stream",
          "name": "stdout",
          "text": [
            "[ 4.50246002  7.09178988  6.56160968 10.2652987   6.16543862  0.29060268\n",
            " 10.28065059  5.81892629  9.9535557   6.92007092]\n"
          ]
        }
      ],
      "source": [
        "def distance(P0, P1, p):\n",
        "    T = P1 - P0\n",
        "    L = (T**2).sum(axis=1)\n",
        "    U = -((P0[:,0]-p[...,0])*T[:,0] + (P0[:,1]-p[...,1])*T[:,1]) / L\n",
        "    U = U.reshape(len(U),1)\n",
        "    D = P0 + U*T - p\n",
        "    return np.sqrt((D**2).sum(axis=1))\n",
        "\n",
        "P0 = np.random.uniform(-10,10,(10,2))\n",
        "P1 = np.random.uniform(-10,10,(10,2))\n",
        "p  = np.random.uniform(-10,10,( 1,2))\n",
        "print(distance(P0, P1, p))"
      ]
    },
    {
      "cell_type": "markdown",
      "metadata": {
        "id": "eK7e-R47NGEe"
      },
      "source": [
        "#### 79. Consider 2 sets of points P0,P1 describing lines (2d) and a set of points P, how to compute distance from each point j (P\\[j\\]) to each line i (P0\\[i\\],P1\\[i\\])? (★★★)"
      ]
    },
    {
      "cell_type": "code",
      "execution_count": 86,
      "metadata": {
        "id": "UqIaKSfbNGEf",
        "colab": {
          "base_uri": "https://localhost:8080/"
        },
        "outputId": "ea8101c0-cd21-4dbf-8f29-3bb9a2fc1bd1"
      },
      "outputs": [
        {
          "output_type": "stream",
          "name": "stdout",
          "text": [
            "[[ 6.35210936  0.34025645  6.1959088  14.56989443 18.22869226 16.55091341\n",
            "   0.16525419 14.72560059  6.61621103  8.4660217 ]\n",
            " [ 5.68955425 18.52736279 12.25634755  4.35714301  1.61013901  2.30401654\n",
            "   4.3039874   9.4257421   8.12363839  9.96512687]\n",
            " [ 3.74910797 16.42548034 10.81479935  2.46929866  2.35100573  2.44106238\n",
            "   1.89297546  8.0398292   5.3511703   8.53537992]\n",
            " [ 1.46349985  6.5813151   1.98952107  7.11761524  9.57108023  7.98007612\n",
            "   2.93804081  8.22328039  3.8160505   0.26654076]\n",
            " [ 7.6371139   7.21735137  0.72267024  7.15832875 12.42670905 11.96032569\n",
            "   3.09750447 14.12389274  0.15808103  1.56317122]\n",
            " [ 7.38441591 10.9516909   8.91425669  1.7810185   0.92838603  1.579194\n",
            "  10.16076006  1.53506567  5.28123706  6.6940953 ]\n",
            " [ 1.8984917  15.76647488 10.74153182  2.01348396  1.89844698  1.58974086\n",
            "   0.04281253  6.38646876  3.78476255  8.47164031]\n",
            " [ 0.08830106 12.92942693  8.60300181  0.60393584  3.24706223  2.22995806\n",
            "   2.69650547  5.13625803  0.39746651  6.34607256]\n",
            " [ 3.3891407  20.40899739 16.84412843  7.23201621  5.01588828  5.60506684\n",
            "   3.81044909  0.05429384  4.5356227  14.59308511]\n",
            " [ 4.38124515 15.86095444 12.74734841  2.79582917  1.64498182  3.00005066\n",
            "   5.98174792  0.201702    0.33616724 10.50679681]]\n"
          ]
        }
      ],
      "source": [
        "P0 = np.random.uniform(-10, 10, (10,2))\n",
        "P1 = np.random.uniform(-10,10,(10,2))\n",
        "p = np.random.uniform(-10, 10, (10,2))\n",
        "print(np.array([distance(P0,P1,p_i) for p_i in p]))"
      ]
    },
    {
      "cell_type": "markdown",
      "metadata": {
        "id": "kW3pk5eSNGEg"
      },
      "source": [
        "#### 80. Consider an arbitrary array, write a function that extract a subpart with a fixed shape and centered on a given element (pad with a `fill` value when necessary) (★★★) \n",
        "(**hint**: minimum, maximum)"
      ]
    },
    {
      "cell_type": "code",
      "execution_count": 87,
      "metadata": {
        "id": "zVNMEObTNGEh",
        "colab": {
          "base_uri": "https://localhost:8080/"
        },
        "outputId": "fd27df9c-cb81-4f31-99be-438d7c6f5f08"
      },
      "outputs": [
        {
          "output_type": "stream",
          "name": "stdout",
          "text": [
            "[[4 7 6 3 4 0 9 5 2 5]\n",
            " [3 1 9 5 4 9 8 2 2 4]\n",
            " [9 0 5 1 6 4 9 4 7 5]\n",
            " [9 2 1 2 4 3 0 5 1 1]\n",
            " [0 9 7 1 1 3 9 5 7 3]\n",
            " [5 0 1 6 0 7 5 7 6 2]\n",
            " [4 7 9 3 8 7 2 0 7 9]\n",
            " [1 6 5 5 8 4 8 6 8 1]\n",
            " [8 7 0 1 8 7 9 2 2 3]\n",
            " [1 3 3 7 3 7 5 1 3 0]]\n",
            "[[0 0 0 0 0]\n",
            " [0 4 7 6 3]\n",
            " [0 3 1 9 5]\n",
            " [0 9 0 5 1]\n",
            " [0 9 2 1 2]]\n"
          ]
        },
        {
          "output_type": "stream",
          "name": "stderr",
          "text": [
            "/usr/local/lib/python3.7/dist-packages/ipykernel_launcher.py:22: FutureWarning: Using a non-tuple sequence for multidimensional indexing is deprecated; use `arr[tuple(seq)]` instead of `arr[seq]`. In the future this will be interpreted as an array index, `arr[np.array(seq)]`, which will result either in an error or a different result.\n"
          ]
        }
      ],
      "source": [
        "Z = np.random.randint(0,10,(10,10))\n",
        "shape = (5,5)\n",
        "fill  = 0\n",
        "position = (1,1)\n",
        "\n",
        "R = np.ones(shape, dtype=Z.dtype)*fill\n",
        "P  = np.array(list(position)).astype(int)\n",
        "Rs = np.array(list(R.shape)).astype(int)\n",
        "Zs = np.array(list(Z.shape)).astype(int)\n",
        "R_start = np.zeros((len(shape),)).astype(int)\n",
        "R_stop  = np.array(list(shape)).astype(int)\n",
        "Z_start = (P-Rs//2)\n",
        "Z_stop  = (P+Rs//2)+Rs%2\n",
        "\n",
        "R_start = (R_start - np.minimum(Z_start,0)).tolist()\n",
        "Z_start = (np.maximum(Z_start,0)).tolist()\n",
        "R_stop = np.maximum(R_start, (R_stop - np.maximum(Z_stop-Zs,0))).tolist()\n",
        "Z_stop = (np.minimum(Z_stop,Zs)).tolist()\n",
        "\n",
        "r = [slice(start,stop) for start,stop in zip(R_start,R_stop)]\n",
        "z = [slice(start,stop) for start,stop in zip(Z_start,Z_stop)]\n",
        "R[r] = Z[z]\n",
        "print(Z)\n",
        "print(R)"
      ]
    },
    {
      "cell_type": "markdown",
      "metadata": {
        "id": "FyjfABQwNGEj"
      },
      "source": [
        "#### 81. Consider an array Z = \\[1,2,3,4,5,6,7,8,9,10,11,12,13,14\\], how to generate an array R = \\[\\[1,2,3,4\\], \\[2,3,4,5\\], \\[3,4,5,6\\], ..., \\[11,12,13,14\\]\\]? (★★★) \n",
        "(**hint**: stride\\_tricks.as\\_strided)"
      ]
    },
    {
      "cell_type": "code",
      "execution_count": 88,
      "metadata": {
        "id": "HjHJ7XmJNGEk",
        "colab": {
          "base_uri": "https://localhost:8080/"
        },
        "outputId": "9019c1a7-d7cf-40a8-8d45-011015de99f5"
      },
      "outputs": [
        {
          "output_type": "stream",
          "name": "stdout",
          "text": [
            "[[ 1  2  3  4]\n",
            " [ 2  3  4  5]\n",
            " [ 3  4  5  6]\n",
            " [ 4  5  6  7]\n",
            " [ 5  6  7  8]\n",
            " [ 6  7  8  9]\n",
            " [ 7  8  9 10]\n",
            " [ 8  9 10 11]\n",
            " [ 9 10 11 12]\n",
            " [10 11 12 13]\n",
            " [11 12 13 14]]\n"
          ]
        }
      ],
      "source": [
        "Z = np.arange(1,15,dtype=np.uint32)\n",
        "R = stride_tricks.as_strided(Z,(11,4),(4,4))\n",
        "print(R)"
      ]
    },
    {
      "cell_type": "markdown",
      "metadata": {
        "id": "cZ3rhOIDNGEl"
      },
      "source": [
        "#### 82. Compute a matrix rank (★★★) \n",
        "(**hint**: np.linalg.svd) (suggestion: np.linalg.svd)"
      ]
    },
    {
      "cell_type": "code",
      "execution_count": 89,
      "metadata": {
        "id": "WD5o1JafNGEm",
        "colab": {
          "base_uri": "https://localhost:8080/"
        },
        "outputId": "ad9e9a55-af30-4eaf-8f48-9cfa42632b36"
      },
      "outputs": [
        {
          "output_type": "stream",
          "name": "stdout",
          "text": [
            "10\n"
          ]
        }
      ],
      "source": [
        "Z = np.random.uniform(0,1,(10,10))\n",
        "U, S, V = np.linalg.svd(Z) # Singular Value Decomposition\n",
        "rank = np.sum(S > 1e-10)\n",
        "print(rank)"
      ]
    },
    {
      "cell_type": "markdown",
      "metadata": {
        "id": "YIntIfTlNGEn"
      },
      "source": [
        "#### 83. How to find the most frequent value in an array? \n",
        "(**hint**: np.bincount, argmax)"
      ]
    },
    {
      "cell_type": "code",
      "execution_count": 90,
      "metadata": {
        "id": "nUy6aFH6NGEo",
        "colab": {
          "base_uri": "https://localhost:8080/"
        },
        "outputId": "555c3a3e-4ce9-4cfb-ae2b-c14e2eb984f4"
      },
      "outputs": [
        {
          "output_type": "stream",
          "name": "stdout",
          "text": [
            "9\n"
          ]
        }
      ],
      "source": [
        "Z = np.random.randint(0,10,50)\n",
        "print(np.bincount(Z).argmax())"
      ]
    },
    {
      "cell_type": "markdown",
      "metadata": {
        "id": "GP39JTV0NGEp"
      },
      "source": [
        "#### 84. Extract all the contiguous 3x3 blocks from a random 10x10 matrix (★★★) \n",
        "(**hint**: stride\\_tricks.as\\_strided)"
      ]
    },
    {
      "cell_type": "code",
      "execution_count": 91,
      "metadata": {
        "id": "GtYqvJZDNGEq",
        "colab": {
          "base_uri": "https://localhost:8080/"
        },
        "outputId": "b73a2406-0a74-48e8-943f-f67315ab9b3f"
      },
      "outputs": [
        {
          "output_type": "stream",
          "name": "stdout",
          "text": [
            "[[[[0 1 4]\n",
            "   [1 0 0]\n",
            "   [1 4 3]]\n",
            "\n",
            "  [[1 4 1]\n",
            "   [0 0 2]\n",
            "   [4 3 3]]\n",
            "\n",
            "  [[4 1 1]\n",
            "   [0 2 0]\n",
            "   [3 3 2]]\n",
            "\n",
            "  [[1 1 0]\n",
            "   [2 0 4]\n",
            "   [3 2 4]]\n",
            "\n",
            "  [[1 0 1]\n",
            "   [0 4 2]\n",
            "   [2 4 0]]\n",
            "\n",
            "  [[0 1 1]\n",
            "   [4 2 3]\n",
            "   [4 0 2]]\n",
            "\n",
            "  [[1 1 1]\n",
            "   [2 3 3]\n",
            "   [0 2 4]]\n",
            "\n",
            "  [[1 1 1]\n",
            "   [3 3 3]\n",
            "   [2 4 0]]]\n",
            "\n",
            "\n",
            " [[[1 0 0]\n",
            "   [1 4 3]\n",
            "   [1 3 0]]\n",
            "\n",
            "  [[0 0 2]\n",
            "   [4 3 3]\n",
            "   [3 0 3]]\n",
            "\n",
            "  [[0 2 0]\n",
            "   [3 3 2]\n",
            "   [0 3 2]]\n",
            "\n",
            "  [[2 0 4]\n",
            "   [3 2 4]\n",
            "   [3 2 1]]\n",
            "\n",
            "  [[0 4 2]\n",
            "   [2 4 0]\n",
            "   [2 1 2]]\n",
            "\n",
            "  [[4 2 3]\n",
            "   [4 0 2]\n",
            "   [1 2 1]]\n",
            "\n",
            "  [[2 3 3]\n",
            "   [0 2 4]\n",
            "   [2 1 0]]\n",
            "\n",
            "  [[3 3 3]\n",
            "   [2 4 0]\n",
            "   [1 0 0]]]\n",
            "\n",
            "\n",
            " [[[1 4 3]\n",
            "   [1 3 0]\n",
            "   [2 4 0]]\n",
            "\n",
            "  [[4 3 3]\n",
            "   [3 0 3]\n",
            "   [4 0 3]]\n",
            "\n",
            "  [[3 3 2]\n",
            "   [0 3 2]\n",
            "   [0 3 2]]\n",
            "\n",
            "  [[3 2 4]\n",
            "   [3 2 1]\n",
            "   [3 2 0]]\n",
            "\n",
            "  [[2 4 0]\n",
            "   [2 1 2]\n",
            "   [2 0 4]]\n",
            "\n",
            "  [[4 0 2]\n",
            "   [1 2 1]\n",
            "   [0 4 3]]\n",
            "\n",
            "  [[0 2 4]\n",
            "   [2 1 0]\n",
            "   [4 3 4]]\n",
            "\n",
            "  [[2 4 0]\n",
            "   [1 0 0]\n",
            "   [3 4 4]]]\n",
            "\n",
            "\n",
            " [[[1 3 0]\n",
            "   [2 4 0]\n",
            "   [0 4 2]]\n",
            "\n",
            "  [[3 0 3]\n",
            "   [4 0 3]\n",
            "   [4 2 3]]\n",
            "\n",
            "  [[0 3 2]\n",
            "   [0 3 2]\n",
            "   [2 3 3]]\n",
            "\n",
            "  [[3 2 1]\n",
            "   [3 2 0]\n",
            "   [3 3 0]]\n",
            "\n",
            "  [[2 1 2]\n",
            "   [2 0 4]\n",
            "   [3 0 4]]\n",
            "\n",
            "  [[1 2 1]\n",
            "   [0 4 3]\n",
            "   [0 4 4]]\n",
            "\n",
            "  [[2 1 0]\n",
            "   [4 3 4]\n",
            "   [4 4 2]]\n",
            "\n",
            "  [[1 0 0]\n",
            "   [3 4 4]\n",
            "   [4 2 3]]]\n",
            "\n",
            "\n",
            " [[[2 4 0]\n",
            "   [0 4 2]\n",
            "   [0 4 3]]\n",
            "\n",
            "  [[4 0 3]\n",
            "   [4 2 3]\n",
            "   [4 3 0]]\n",
            "\n",
            "  [[0 3 2]\n",
            "   [2 3 3]\n",
            "   [3 0 4]]\n",
            "\n",
            "  [[3 2 0]\n",
            "   [3 3 0]\n",
            "   [0 4 3]]\n",
            "\n",
            "  [[2 0 4]\n",
            "   [3 0 4]\n",
            "   [4 3 1]]\n",
            "\n",
            "  [[0 4 3]\n",
            "   [0 4 4]\n",
            "   [3 1 1]]\n",
            "\n",
            "  [[4 3 4]\n",
            "   [4 4 2]\n",
            "   [1 1 3]]\n",
            "\n",
            "  [[3 4 4]\n",
            "   [4 2 3]\n",
            "   [1 3 2]]]\n",
            "\n",
            "\n",
            " [[[0 4 2]\n",
            "   [0 4 3]\n",
            "   [4 3 0]]\n",
            "\n",
            "  [[4 2 3]\n",
            "   [4 3 0]\n",
            "   [3 0 1]]\n",
            "\n",
            "  [[2 3 3]\n",
            "   [3 0 4]\n",
            "   [0 1 0]]\n",
            "\n",
            "  [[3 3 0]\n",
            "   [0 4 3]\n",
            "   [1 0 4]]\n",
            "\n",
            "  [[3 0 4]\n",
            "   [4 3 1]\n",
            "   [0 4 3]]\n",
            "\n",
            "  [[0 4 4]\n",
            "   [3 1 1]\n",
            "   [4 3 3]]\n",
            "\n",
            "  [[4 4 2]\n",
            "   [1 1 3]\n",
            "   [3 3 3]]\n",
            "\n",
            "  [[4 2 3]\n",
            "   [1 3 2]\n",
            "   [3 3 2]]]\n",
            "\n",
            "\n",
            " [[[0 4 3]\n",
            "   [4 3 0]\n",
            "   [0 0 4]]\n",
            "\n",
            "  [[4 3 0]\n",
            "   [3 0 1]\n",
            "   [0 4 1]]\n",
            "\n",
            "  [[3 0 4]\n",
            "   [0 1 0]\n",
            "   [4 1 2]]\n",
            "\n",
            "  [[0 4 3]\n",
            "   [1 0 4]\n",
            "   [1 2 3]]\n",
            "\n",
            "  [[4 3 1]\n",
            "   [0 4 3]\n",
            "   [2 3 1]]\n",
            "\n",
            "  [[3 1 1]\n",
            "   [4 3 3]\n",
            "   [3 1 4]]\n",
            "\n",
            "  [[1 1 3]\n",
            "   [3 3 3]\n",
            "   [1 4 1]]\n",
            "\n",
            "  [[1 3 2]\n",
            "   [3 3 2]\n",
            "   [4 1 0]]]\n",
            "\n",
            "\n",
            " [[[4 3 0]\n",
            "   [0 0 4]\n",
            "   [2 3 2]]\n",
            "\n",
            "  [[3 0 1]\n",
            "   [0 4 1]\n",
            "   [3 2 2]]\n",
            "\n",
            "  [[0 1 0]\n",
            "   [4 1 2]\n",
            "   [2 2 2]]\n",
            "\n",
            "  [[1 0 4]\n",
            "   [1 2 3]\n",
            "   [2 2 3]]\n",
            "\n",
            "  [[0 4 3]\n",
            "   [2 3 1]\n",
            "   [2 3 0]]\n",
            "\n",
            "  [[4 3 3]\n",
            "   [3 1 4]\n",
            "   [3 0 0]]\n",
            "\n",
            "  [[3 3 3]\n",
            "   [1 4 1]\n",
            "   [0 0 1]]\n",
            "\n",
            "  [[3 3 2]\n",
            "   [4 1 0]\n",
            "   [0 1 3]]]]\n"
          ]
        }
      ],
      "source": [
        "Z = np.random.randint(0,5,(10,10))\n",
        "n = 3\n",
        "i = 1 + (Z.shape[0]-3)\n",
        "j = 1 + (Z.shape[1]-3)\n",
        "C = stride_tricks.as_strided(Z, shape=(i, j, n, n), strides=Z.strides + Z.strides)\n",
        "print(C)"
      ]
    },
    {
      "cell_type": "markdown",
      "metadata": {
        "id": "mjFExlkQNGEq"
      },
      "source": [
        "#### 85. Create a 2D array subclass such that Z\\[i,j\\] == Z\\[j,i\\] (★★★) \n",
        "(**hint**: class method)"
      ]
    },
    {
      "cell_type": "code",
      "execution_count": 92,
      "metadata": {
        "id": "iKnGnpUyNGEr",
        "colab": {
          "base_uri": "https://localhost:8080/"
        },
        "outputId": "8f56d5b5-1dd3-4482-f154-b3ea323c4e5d"
      },
      "outputs": [
        {
          "output_type": "stream",
          "name": "stdout",
          "text": [
            "[[ 5 15  8  6 10]\n",
            " [15  6 13 10 10]\n",
            " [ 8 13  5 42 11]\n",
            " [ 6 10 42  0  8]\n",
            " [10 10 11  8  9]]\n"
          ]
        }
      ],
      "source": [
        "class Symetric(np.ndarray):\n",
        "    def __setitem__(self, index, value):\n",
        "        i,j = index\n",
        "        super(Symetric, self).__setitem__((i,j), value)\n",
        "        super(Symetric, self).__setitem__((j,i), value)\n",
        "\n",
        "def symetric(Z):\n",
        "    return np.asarray(Z + Z.T - np.diag(Z.diagonal())).view(Symetric)\n",
        "\n",
        "S = symetric(np.random.randint(0,10,(5,5)))\n",
        "S[2,3] = 42\n",
        "print(S)"
      ]
    },
    {
      "cell_type": "markdown",
      "metadata": {
        "id": "gE8R1ikXNGEs"
      },
      "source": [
        "#### 86. Consider a set of p matrices wich shape (n,n) and a set of p vectors with shape (n,1). How to compute the sum of of the p matrix products at once? (result has shape (n,1)) (★★★) \n",
        "(**hint**: np.tensordot)"
      ]
    },
    {
      "cell_type": "code",
      "execution_count": 93,
      "metadata": {
        "id": "vEy0gAD3NGEt",
        "colab": {
          "base_uri": "https://localhost:8080/"
        },
        "outputId": "f3168168-88bf-485f-8fde-2ee1badefc9e"
      },
      "outputs": [
        {
          "output_type": "stream",
          "name": "stdout",
          "text": [
            "[[200.]\n",
            " [200.]\n",
            " [200.]\n",
            " [200.]\n",
            " [200.]\n",
            " [200.]\n",
            " [200.]\n",
            " [200.]\n",
            " [200.]\n",
            " [200.]\n",
            " [200.]\n",
            " [200.]\n",
            " [200.]\n",
            " [200.]\n",
            " [200.]\n",
            " [200.]\n",
            " [200.]\n",
            " [200.]\n",
            " [200.]\n",
            " [200.]]\n"
          ]
        }
      ],
      "source": [
        "p, n = 10, 20\n",
        "M = np.ones((p,n,n))\n",
        "V = np.ones((p,n,1))\n",
        "S = np.tensordot(M, V, axes=[[0, 2], [0, 1]])\n",
        "print(S)"
      ]
    },
    {
      "cell_type": "markdown",
      "metadata": {
        "id": "mQSUziDFNGEu"
      },
      "source": [
        "#### 87. Consider a 16x16 array, how to get the block-sum (block size is 4x4)? (★★★) \n",
        "(**hint**: np.add.reduceat)"
      ]
    },
    {
      "cell_type": "code",
      "execution_count": 94,
      "metadata": {
        "id": "w1fhEQWUNGEx",
        "colab": {
          "base_uri": "https://localhost:8080/"
        },
        "outputId": "e76b6428-c76e-4d41-8c0f-47f11d741e84"
      },
      "outputs": [
        {
          "output_type": "stream",
          "name": "stdout",
          "text": [
            "[[16. 16. 16. 16.]\n",
            " [16. 16. 16. 16.]\n",
            " [16. 16. 16. 16.]\n",
            " [16. 16. 16. 16.]]\n"
          ]
        }
      ],
      "source": [
        "Z = np.ones((16,16))\n",
        "k = 4\n",
        "S = np.add.reduceat(np.add.reduceat(Z, np.arange(0, Z.shape[0], k), axis=0),\n",
        "                                       np.arange(0, Z.shape[1], k), axis=1)\n",
        "print(S)"
      ]
    },
    {
      "cell_type": "markdown",
      "metadata": {
        "id": "d6xzdK5YNGEx"
      },
      "source": [
        "#### 88. How to implement the Game of Life using numpy arrays? (★★★)"
      ]
    },
    {
      "cell_type": "code",
      "execution_count": 95,
      "metadata": {
        "id": "4pa-ipWaNGEy",
        "colab": {
          "base_uri": "https://localhost:8080/"
        },
        "outputId": "916cb2ef-b9a4-49e5-cb7c-9e9f272fdbf3"
      },
      "outputs": [
        {
          "output_type": "stream",
          "name": "stdout",
          "text": [
            "[[0 0 0 ... 0 0 0]\n",
            " [0 0 0 ... 0 0 0]\n",
            " [0 0 0 ... 0 0 0]\n",
            " ...\n",
            " [0 0 0 ... 0 0 0]\n",
            " [0 0 0 ... 0 0 0]\n",
            " [0 0 0 ... 0 0 0]]\n"
          ]
        }
      ],
      "source": [
        "def iterate(Z):\n",
        "    # Count neighbours\n",
        "    N = (Z[0:-2,0:-2] + Z[0:-2,1:-1] + Z[0:-2,2:] +\n",
        "         Z[1:-1,0:-2]                + Z[1:-1,2:] +\n",
        "         Z[2:  ,0:-2] + Z[2:  ,1:-1] + Z[2:  ,2:])\n",
        "\n",
        "    # Apply rules\n",
        "    birth = (N==3) & (Z[1:-1,1:-1]==0)\n",
        "    survive = ((N==2) | (N==3)) & (Z[1:-1,1:-1]==1)\n",
        "    Z[...] = 0\n",
        "    Z[1:-1,1:-1][birth | survive] = 1\n",
        "    return Z\n",
        "\n",
        "Z = np.random.randint(0,2,(50,50))\n",
        "for i in range(100): Z = iterate(Z)\n",
        "print(Z)"
      ]
    },
    {
      "cell_type": "markdown",
      "metadata": {
        "id": "2etq7oL7NGEy"
      },
      "source": [
        "#### 89. How to get the n largest values of an array (★★★) \n",
        "(**hint**: np.argsort | np.argpartition)"
      ]
    },
    {
      "cell_type": "code",
      "execution_count": 96,
      "metadata": {
        "id": "w10dh1LNNGEz",
        "colab": {
          "base_uri": "https://localhost:8080/"
        },
        "outputId": "34168633-6a68-4528-b762-6872ac7d4cf6"
      },
      "outputs": [
        {
          "output_type": "stream",
          "name": "stdout",
          "text": [
            "[9995 9996 9997 9998 9999]\n",
            "[9996 9995 9999 9997 9998]\n"
          ]
        }
      ],
      "source": [
        "Z = np.arange(10000)\n",
        "np.random.shuffle(Z)\n",
        "n = 5\n",
        "\n",
        "print (Z[np.argsort(Z)[-n:]])\n",
        "\n",
        "print (Z[np.argpartition(-Z,n)[:n]])"
      ]
    },
    {
      "cell_type": "markdown",
      "metadata": {
        "id": "omybHM_YNGE0"
      },
      "source": [
        "#### 90. Given an arbitrary number of vectors, build the cartesian product (every combinations of every item) (★★★) \n",
        "(**hint**: np.indices)"
      ]
    },
    {
      "cell_type": "code",
      "execution_count": 97,
      "metadata": {
        "scrolled": true,
        "id": "1YTI44FMNGE1",
        "colab": {
          "base_uri": "https://localhost:8080/"
        },
        "outputId": "7092cb93-4994-4825-e008-c8d159340caa"
      },
      "outputs": [
        {
          "output_type": "stream",
          "name": "stdout",
          "text": [
            "[[1 4 6]\n",
            " [1 4 7]\n",
            " [1 5 6]\n",
            " [1 5 7]\n",
            " [2 4 6]\n",
            " [2 4 7]\n",
            " [2 5 6]\n",
            " [2 5 7]\n",
            " [3 4 6]\n",
            " [3 4 7]\n",
            " [3 5 6]\n",
            " [3 5 7]]\n"
          ]
        }
      ],
      "source": [
        "def cartesian(arrays):\n",
        "    arrays = [np.asarray(a) for a in arrays]\n",
        "    shape = (len(x) for x in arrays)\n",
        "\n",
        "    ix = np.indices(shape, dtype=int)\n",
        "    ix = ix.reshape(len(arrays), -1).T\n",
        "\n",
        "    for n, arr in enumerate(arrays):\n",
        "        ix[:, n] = arrays[n][ix[:, n]]\n",
        "\n",
        "    return ix\n",
        "\n",
        "print (cartesian(([1, 2, 3], [4, 5], [6, 7])))"
      ]
    },
    {
      "cell_type": "markdown",
      "metadata": {
        "id": "Wq6zHoNNNGE1"
      },
      "source": [
        "#### 91. How to create a record array from a regular array? (★★★) \n",
        "(**hint**: np.core.records.fromarrays)"
      ]
    },
    {
      "cell_type": "code",
      "execution_count": 98,
      "metadata": {
        "id": "9HK2yzrlNGE2",
        "colab": {
          "base_uri": "https://localhost:8080/"
        },
        "outputId": "50f5af37-6880-47ac-8db1-eccda2f65987"
      },
      "outputs": [
        {
          "output_type": "stream",
          "name": "stdout",
          "text": [
            "[(b'Hello', 2.5, 3) (b'World', 3.6, 2)]\n"
          ]
        }
      ],
      "source": [
        "Z = np.array([(\"Hello\", 2.5, 3),\n",
        "              (\"World\", 3.6, 2)])\n",
        "R = np.core.records.fromarrays(Z.T, \n",
        "                               names='col1, col2, col3',\n",
        "                               formats = 'S8, f8, i8')\n",
        "print(R)"
      ]
    },
    {
      "cell_type": "markdown",
      "metadata": {
        "id": "2xLgPjnpNGE2"
      },
      "source": [
        "#### 92. Consider a large vector Z, compute Z to the power of 3 using 3 different methods (★★★) \n",
        "(**hint**: np.power, \\*, np.einsum)"
      ]
    },
    {
      "cell_type": "code",
      "execution_count": null,
      "metadata": {
        "id": "VAzs_oEhNGE3"
      },
      "outputs": [],
      "source": [
        "x = np.random.rand(5e7)\n",
        "\n",
        "%timeit np.power(x,3)\n",
        "%timeit x*x*x\n",
        "%timeit np.einsum('i,i,i->i',x,x,x)"
      ]
    },
    {
      "cell_type": "markdown",
      "metadata": {
        "id": "SJVu3D0TNGE3"
      },
      "source": [
        "#### 93. Consider two arrays A and B of shape (8,3) and (2,2). How to find rows of A that contain elements of each row of B regardless of the order of the elements in B? (★★★) \n",
        "(**hint**: np.where)"
      ]
    },
    {
      "cell_type": "code",
      "execution_count": 99,
      "metadata": {
        "id": "nCoke6IgNGE4",
        "colab": {
          "base_uri": "https://localhost:8080/"
        },
        "outputId": "5090f77b-7825-448b-ace0-cdc4deeca283"
      },
      "outputs": [
        {
          "output_type": "stream",
          "name": "stdout",
          "text": [
            "[0 1 2 6 7]\n"
          ]
        }
      ],
      "source": [
        "A = np.random.randint(0,5,(8,3))\n",
        "B = np.random.randint(0,5,(2,2))\n",
        "\n",
        "C = (A[..., np.newaxis, np.newaxis] == B)\n",
        "rows = np.where(C.any((3,1)).all(1))[0]\n",
        "print(rows)"
      ]
    },
    {
      "cell_type": "markdown",
      "metadata": {
        "id": "lykzR-7aNGE4"
      },
      "source": [
        "#### 94. Considering a 10x3 matrix, extract rows with unequal values (e.g. \\[2,2,3\\]) (★★★)"
      ]
    },
    {
      "cell_type": "code",
      "execution_count": 100,
      "metadata": {
        "id": "GEwxNyKuNGE5",
        "colab": {
          "base_uri": "https://localhost:8080/"
        },
        "outputId": "864a7b52-93ad-4b4c-dc24-18b08524ca0c"
      },
      "outputs": [
        {
          "output_type": "stream",
          "name": "stdout",
          "text": [
            "[[4 3 2]\n",
            " [1 4 1]\n",
            " [3 2 3]\n",
            " [4 3 2]\n",
            " [4 3 2]\n",
            " [0 4 1]\n",
            " [1 2 3]\n",
            " [3 1 2]\n",
            " [0 3 0]\n",
            " [1 0 3]]\n",
            "[[4 3 2]\n",
            " [1 4 1]\n",
            " [3 2 3]\n",
            " [4 3 2]\n",
            " [4 3 2]\n",
            " [0 4 1]\n",
            " [1 2 3]\n",
            " [3 1 2]\n",
            " [0 3 0]\n",
            " [1 0 3]]\n",
            "[[4 3 2]\n",
            " [1 4 1]\n",
            " [3 2 3]\n",
            " [4 3 2]\n",
            " [4 3 2]\n",
            " [0 4 1]\n",
            " [1 2 3]\n",
            " [3 1 2]\n",
            " [0 3 0]\n",
            " [1 0 3]]\n"
          ]
        }
      ],
      "source": [
        "Z = np.random.randint(0,5,(10,3))\n",
        "print(Z)\n",
        "\n",
        "E = np.all(Z[:,1:] == Z[:,:-1], axis=1)\n",
        "U = Z[~E]\n",
        "print(U)\n",
        "\n",
        "U = Z[Z.max(axis=1) != Z.min(axis=1),:]\n",
        "print(U)"
      ]
    },
    {
      "cell_type": "markdown",
      "metadata": {
        "id": "ZxEk43RhNGE5"
      },
      "source": [
        "#### 95. Convert a vector of ints into a matrix binary representation (★★★) \n",
        "(**hint**: np.unpackbits)"
      ]
    },
    {
      "cell_type": "code",
      "execution_count": 101,
      "metadata": {
        "id": "tppf6KnPNGE5",
        "colab": {
          "base_uri": "https://localhost:8080/"
        },
        "outputId": "966b0978-8134-4025-d8e7-62e362910555"
      },
      "outputs": [
        {
          "output_type": "stream",
          "name": "stdout",
          "text": [
            "[[0 0 0 0 0 0 0 0]\n",
            " [0 0 0 0 0 0 0 1]\n",
            " [0 0 0 0 0 0 1 0]\n",
            " [0 0 0 0 0 0 1 1]\n",
            " [0 0 0 0 1 1 1 1]\n",
            " [0 0 0 1 0 0 0 0]\n",
            " [0 0 1 0 0 0 0 0]\n",
            " [0 1 0 0 0 0 0 0]\n",
            " [1 0 0 0 0 0 0 0]]\n"
          ]
        }
      ],
      "source": [
        "I = np.array([0, 1, 2, 3, 15, 16, 32, 64, 128])\n",
        "B = ((I.reshape(-1,1) & (2**np.arange(8))) != 0).astype(int)\n",
        "print(B[:,::-1])"
      ]
    },
    {
      "cell_type": "markdown",
      "metadata": {
        "id": "kRUGCnMwNGE6"
      },
      "source": [
        "#### 96. Given a two dimensional array, how to extract unique rows? (★★★) \n",
        "(**hint**: np.ascontiguousarray)"
      ]
    },
    {
      "cell_type": "code",
      "execution_count": 102,
      "metadata": {
        "id": "KU0sM6FHNGE6",
        "colab": {
          "base_uri": "https://localhost:8080/"
        },
        "outputId": "ec1c9b20-10af-4605-ebdc-7d543b6f5847"
      },
      "outputs": [
        {
          "output_type": "stream",
          "name": "stdout",
          "text": [
            "[[0 0 1]\n",
            " [0 1 0]\n",
            " [1 0 0]\n",
            " [1 1 0]\n",
            " [1 1 1]]\n",
            "[[0 0 1]\n",
            " [0 1 0]\n",
            " [1 0 0]\n",
            " [1 1 0]\n",
            " [1 1 1]]\n"
          ]
        }
      ],
      "source": [
        "Z = np.random.randint(0,2,(6,3))\n",
        "T = np.ascontiguousarray(Z).view(np.dtype((np.void, Z.dtype.itemsize * Z.shape[1])))\n",
        "_, idx = np.unique(T, return_index=True)\n",
        "uZ = Z[idx]\n",
        "print(uZ)\n",
        "uZ = np.unique(Z, axis=0)\n",
        "print(uZ)"
      ]
    },
    {
      "cell_type": "markdown",
      "metadata": {
        "id": "l-aPyeQWNGE6"
      },
      "source": [
        "#### 97. Considering 2 vectors A & B, write the einsum equivalent of inner, outer, sum, and mul function (★★★) \n",
        "(**hint**: np.einsum)"
      ]
    },
    {
      "cell_type": "code",
      "execution_count": 103,
      "metadata": {
        "id": "Z7cEcmcyNGE7",
        "colab": {
          "base_uri": "https://localhost:8080/"
        },
        "outputId": "e4aed5ca-5b0e-4f13-ffb6-2cd52ac635d4"
      },
      "outputs": [
        {
          "output_type": "execute_result",
          "data": {
            "text/plain": [
              "array([[3.10617688e-02, 4.52484467e-04, 9.35425302e-03, 2.52519319e-02,\n",
              "        3.50694708e-04, 2.66464745e-02, 9.70439556e-03, 1.76034805e-02,\n",
              "        5.50480170e-03, 3.13205623e-02],\n",
              "       [5.12721447e-01, 7.46894010e-03, 1.54406086e-01, 4.16821307e-01,\n",
              "        5.78874627e-03, 4.39840340e-01, 1.60185718e-01, 2.90572056e-01,\n",
              "        9.08650731e-02, 5.16993226e-01],\n",
              "       [7.58984130e-01, 1.10563095e-02, 2.28568104e-01, 6.17022672e-01,\n",
              "        8.56911014e-03, 6.51097862e-01, 2.37123722e-01, 4.30135272e-01,\n",
              "        1.34508024e-01, 7.65307665e-01],\n",
              "       [7.16823235e-01, 1.04421413e-02, 2.15871348e-01, 5.82747610e-01,\n",
              "        8.09310368e-03, 6.14929953e-01, 2.23951709e-01, 4.06241639e-01,\n",
              "        1.27036222e-01, 7.22795504e-01],\n",
              "       [5.76471148e-01, 8.39759777e-03, 1.73604311e-01, 4.68647175e-01,\n",
              "        6.50849546e-03, 4.94528301e-01, 1.80102559e-01, 3.26700605e-01,\n",
              "        1.02162867e-01, 5.81274063e-01],\n",
              "       [8.94870654e-01, 1.30358021e-02, 2.69490336e-01, 7.27492790e-01,\n",
              "        1.01033011e-02, 7.67668712e-01, 2.79577730e-01, 5.07145561e-01,\n",
              "        1.58589987e-01, 9.02326339e-01],\n",
              "       [2.01577368e-01, 2.93642737e-03, 6.07050331e-02, 1.63874054e-01,\n",
              "        2.27585611e-03, 1.72924028e-01, 6.29773059e-02, 1.14238932e-01,\n",
              "        3.57237685e-02, 2.03256826e-01],\n",
              "       [9.25618597e-01, 1.34837150e-02, 2.78750081e-01, 7.52489594e-01,\n",
              "        1.04504526e-02, 7.94045969e-01, 2.89184079e-01, 5.24571188e-01,\n",
              "        1.64039172e-01, 9.33330461e-01],\n",
              "       [1.33569703e-01, 1.94574290e-03, 4.02245219e-02, 1.08586638e-01,\n",
              "        1.50803351e-03, 1.14583355e-01, 4.17301810e-02, 7.56972885e-02,\n",
              "        2.36713735e-02, 1.34682550e-01],\n",
              "       [1.69450558e-01, 2.46842818e-03, 5.10300429e-02, 1.37756288e-01,\n",
              "        1.91313683e-03, 1.45363904e-01, 5.29401675e-02, 9.60318655e-02,\n",
              "        3.00302190e-02, 1.70862349e-01]])"
            ]
          },
          "metadata": {},
          "execution_count": 103
        }
      ],
      "source": [
        "\n",
        "A = np.random.uniform(0,1,10)\n",
        "B = np.random.uniform(0,1,10)\n",
        "\n",
        "np.einsum('i->', A)     \n",
        "np.einsum('i,i->i', A, B) \n",
        "np.einsum('i,i', A, B)    \n",
        "np.einsum('i,j->ij', A, B)"
      ]
    },
    {
      "cell_type": "markdown",
      "metadata": {
        "id": "WACH4Qv-NGE7"
      },
      "source": [
        "#### 98. Considering a path described by two vectors (X,Y), how to sample it using equidistant samples (★★★)? \n",
        "(**hint**: np.cumsum, np.interp)"
      ]
    },
    {
      "cell_type": "code",
      "execution_count": 104,
      "metadata": {
        "collapsed": true,
        "id": "dyzzzrJWNGE8"
      },
      "outputs": [],
      "source": [
        "phi = np.arange(0, 10*np.pi, 0.1)\n",
        "a = 1\n",
        "x = a*phi*np.cos(phi)\n",
        "y = a*phi*np.sin(phi)\n",
        "\n",
        "dr = (np.diff(x)**2 + np.diff(y)**2)**.5 \n",
        "r = np.zeros_like(x)\n",
        "r[1:] = np.cumsum(dr)                \n",
        "r_int = np.linspace(0, r.max(), 200) \n",
        "x_int = np.interp(r_int, r, x)     \n",
        "y_int = np.interp(r_int, r, y)"
      ]
    },
    {
      "cell_type": "markdown",
      "metadata": {
        "id": "bl4QeP5gNGE8"
      },
      "source": [
        "#### 99. Given an integer n and a 2D array X, select from X the rows which can be interpreted as draws from a multinomial distribution with n degrees, i.e., the rows which only contain integers and which sum to n. (★★★) \n",
        "(**hint**: np.logical\\_and.reduce, np.mod)"
      ]
    },
    {
      "cell_type": "code",
      "execution_count": 105,
      "metadata": {
        "id": "cbhaVxB3NGE8",
        "colab": {
          "base_uri": "https://localhost:8080/"
        },
        "outputId": "178031f4-f1b5-45e4-cc8f-df32f6277b58"
      },
      "outputs": [
        {
          "output_type": "stream",
          "name": "stdout",
          "text": [
            "[[2. 0. 1. 1.]]\n"
          ]
        }
      ],
      "source": [
        "X = np.asarray([[1.0, 0.0, 3.0, 8.0],\n",
        "                [2.0, 0.0, 1.0, 1.0],\n",
        "                [1.5, 2.5, 1.0, 0.0]])\n",
        "n = 4\n",
        "M = np.logical_and.reduce(np.mod(X, 1) == 0, axis=-1)\n",
        "M &= (X.sum(axis=-1) == n)\n",
        "print(X[M])"
      ]
    },
    {
      "cell_type": "markdown",
      "metadata": {
        "id": "EAoZDuq4NGE9"
      },
      "source": [
        "#### 100. Compute bootstrapped 95% confidence intervals for the mean of a 1D array X (i.e., resample the elements of an array with replacement N times, compute the mean of each sample, and then compute percentiles over the means). (★★★) \n",
        "(**hint**: np.percentile)"
      ]
    },
    {
      "cell_type": "code",
      "execution_count": 106,
      "metadata": {
        "id": "CrUJ1_aqNGE9",
        "colab": {
          "base_uri": "https://localhost:8080/"
        },
        "outputId": "9fa0e7a4-d8a3-4b00-9d10-067294ab6b43"
      },
      "outputs": [
        {
          "output_type": "stream",
          "name": "stdout",
          "text": [
            "[-0.19573138  0.20931606]\n"
          ]
        }
      ],
      "source": [
        "X = np.random.randn(100) # random 1D array\n",
        "N = 1000 # number of bootstrap samples\n",
        "idx = np.random.randint(0, X.size, (N, X.size))\n",
        "means = X[idx].mean(axis=1)\n",
        "confint = np.percentile(means, [2.5, 97.5])\n",
        "print(confint)"
      ]
    }
  ],
  "metadata": {
    "kernelspec": {
      "display_name": "Python 3",
      "language": "python",
      "name": "python3"
    },
    "language_info": {
      "codemirror_mode": {
        "name": "ipython",
        "version": 3
      },
      "file_extension": ".py",
      "mimetype": "text/x-python",
      "name": "python",
      "nbconvert_exporter": "python",
      "pygments_lexer": "ipython3",
      "version": "3.8.3"
    },
    "colab": {
      "name": "Numpy_tasks.ipynb",
      "provenance": [],
      "collapsed_sections": [
        "msxgM-vpNGCe",
        "awtP_96sNGCg",
        "13pwQ0rONGCi",
        "T-qUWtyqNGCk",
        "sB16yi5ANGCm",
        "Z7mWomR6NGCo",
        "va72webuNGCt",
        "BjJqhJB9NGCv",
        "oHAQtkdENGCx",
        "cAMoqT3oNGCz",
        "xUjCQRuLNGC0",
        "KC8LtH8HNGC2",
        "JFtfqc4LNGC4",
        "Ya_QiKSXNGC7",
        "aiquI7JyNGC8",
        "Q1yDD5d7NGC_",
        "cwdr4IqZNGDD",
        "8sU7hDalNGDG",
        "PuUTCaBmNGDI",
        "rALgZRmBNGDK",
        "mUlIkG9BNGDM",
        "khpQSrI5NGDO",
        "_1JRMUfLNGDP",
        "3p6XvBDINGDR",
        "YvXrAgMZNGDS",
        "M5C0FsMiNGDT",
        "MBrr5u8cNGDV",
        "BeUOkvHHNGDW",
        "zSaIVWHSNGDY",
        "Mi4oR4hONGDZ",
        "U_F1oEw7NGDb",
        "NHn35x0fNGDd",
        "o7w8_nLsNGDe",
        "OkfO7hGZNGDg",
        "f3Bb8DUuNGDh",
        "pcUJvTi-NGDj",
        "0Xdac76PNGDk",
        "2NPco8YwNGDm",
        "fJNNUJDfNGDn",
        "Qltqu3IxNGDo",
        "2BgKs2IMNGDq",
        "WKzKW7coNGDs",
        "3D_jQnOPNGDv",
        "ma1k2We3NGDy",
        "tMmtDx8QNGDz",
        "4fZosXkrNGD0",
        "_jDGcAQNNGD2",
        "ga_pCbNnNGD4",
        "fcVI9PcFNGD5",
        "tcPp1yQ1NGD7",
        "j-Cvub89NGD9",
        "DdtXDxDiNGD_",
        "1TYg7rkTNGEA",
        "q_sCD38_NGEC",
        "oeF66lkTNGEF",
        "2zY2dgXVNGEH",
        "zl7t11BCNGEI",
        "PKZOLpXhNGEK",
        "U5UxCkk9NGEM",
        "2x3h-hOiNGEO",
        "a5P45Wt3NGEP",
        "dNi2PYYINGER",
        "HPHO-zSSNGEU",
        "H2cv9iSLNGEW",
        "oBghEJ7MNGEY",
        "n-JkoNrYNGEZ",
        "11dDF8E-NGEb",
        "eK7e-R47NGEe",
        "kW3pk5eSNGEg",
        "FyjfABQwNGEj",
        "cZ3rhOIDNGEl",
        "YIntIfTlNGEn",
        "GP39JTV0NGEp",
        "mjFExlkQNGEq",
        "gE8R1ikXNGEs",
        "mQSUziDFNGEu",
        "d6xzdK5YNGEx",
        "2etq7oL7NGEy",
        "omybHM_YNGE0",
        "Wq6zHoNNNGE1",
        "2xLgPjnpNGE2",
        "SJVu3D0TNGE3",
        "lykzR-7aNGE4",
        "ZxEk43RhNGE5",
        "kRUGCnMwNGE6",
        "l-aPyeQWNGE6",
        "WACH4Qv-NGE7",
        "bl4QeP5gNGE8",
        "EAoZDuq4NGE9"
      ],
      "include_colab_link": true
    }
  },
  "nbformat": 4,
  "nbformat_minor": 0
}